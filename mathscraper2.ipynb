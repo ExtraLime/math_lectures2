{
 "cells": [
  {
   "cell_type": "markdown",
   "metadata": {},
   "source": [
    "## Scraping Closed Captions from YouTube\n",
    "    -In this notebook we will set up a mechanism to download subtitles from youtube videos.\n",
    "    -There are a few different approaches.\n",
    "    -For my project we start with a list of playlists that were chosen by hand\n",
    "    -However, a function to return search results and filter them is also present"
   ]
  },
  {
   "cell_type": "code",
   "execution_count": 351,
   "metadata": {},
   "outputs": [],
   "source": [
    "import pandas as pd\n",
    "import os\n",
    "import webvtt\n",
    "import google.oauth2.credentials\n",
    "import time\n",
    "\n",
    "import google_auth_oauthlib.flow\n",
    "from googleapiclient.discovery import build\n",
    "from googleapiclient.errors import HttpError\n",
    "from google_auth_oauthlib.flow import InstalledAppFlow\n",
    "\n",
    "\n"
   ]
  },
  {
   "cell_type": "code",
   "execution_count": 352,
   "metadata": {},
   "outputs": [
    {
     "name": "stdout",
     "output_type": "stream",
     "text": [
      "Please visit this URL to authorize this application: https://accounts.google.com/o/oauth2/auth?response_type=code&client_id=111385062335-jq2vrqf7hvtp6mfh2o5bprq11sabsq1r.apps.googleusercontent.com&redirect_uri=urn%3Aietf%3Awg%3Aoauth%3A2.0%3Aoob&scope=https%3A%2F%2Fwww.googleapis.com%2Fauth%2Fyoutube.force-ssl&state=DfoE7FZXxyd0CPQkMlzm44eN4kJwXp&prompt=consent&access_type=offline\n",
      "Enter the authorization code: 4/4wBDp-DRrBAIbklO7zQqLgGxUbx5Y44eemC4b_KIcjgmKjKWhW9drwA\n"
     ]
    }
   ],
   "source": [
    "#use google's resource builder code from API documentation\n",
    "\n",
    "# The CLIENT_SECRETS_FILE variable specifies the name of a file that contains\n",
    "# the OAuth 2.0 information for this application, including its client_id and\n",
    "# client_secret.\n",
    "CLIENT_SECRETS_FILE = \"client_secret.json\"\n",
    "\n",
    "# This OAuth 2.0 access scope allows for full read/write access to the\n",
    "# authenticated user's account and requires requests to use an SSL connection.\n",
    "SCOPES = ['https://www.googleapis.com/auth/youtube.force-ssl']\n",
    "API_SERVICE_NAME = 'youtube'\n",
    "API_VERSION = 'v3'\n",
    "\n",
    "\n",
    "def get_authenticated_service():\n",
    "    flow = InstalledAppFlow.from_client_secrets_file(CLIENT_SECRETS_FILE, SCOPES)\n",
    "    credentials = flow.run_console()\n",
    "    return build(API_SERVICE_NAME, API_VERSION, credentials = credentials)\n",
    "\n",
    "def print_response(response):\n",
    "    print(response)\n",
    "\n",
    "# Build a resource based on a list of properties given as key-value pairs.\n",
    "# Leave properties with empty values out of the inserted resource.\n",
    "def build_resource(properties):\n",
    "    resource = {}\n",
    "    for p in properties:\n",
    "    # Given a key like \"snippet.title\", split into \"snippet\" and \"title\", where\n",
    "    # \"snippet\" will be an object and \"title\" will be a property in that object.\n",
    "        prop_array = p.split('.')\n",
    "        ref = resource\n",
    "    for pa in range(0, len(prop_array)):\n",
    "        is_array = False\n",
    "        key = prop_array[pa]\n",
    "\n",
    "        # For properties that have array values, convert a name like\n",
    "        # \"snippet.tags[]\" to snippet.tags, and set a flag to handle\n",
    "        # the value as an array.\n",
    "        if key[-2:] == '[]':\n",
    "            key = key[0:len(key)-2:]\n",
    "            is_array = True\n",
    "\n",
    "        if pa == (len(prop_array) - 1):\n",
    "             # Leave properties without values out of inserted resource.\n",
    "            if properties[p]:\n",
    "                if is_array:\n",
    "                    ref[key] = properties[p].split(',')\n",
    "                else:\n",
    "                    ref[key] = properties[p]\n",
    "        elif key not in ref:\n",
    "            # For example, the property is \"snippet.title\", but the resource does\n",
    "            # not yet have a \"snippet\" object. Create the snippet object here.\n",
    "            # Setting \"ref = ref[key]\" means that in the next time through the\n",
    "            # \"for pa in range ...\" loop, we will be setting a property in the\n",
    "            # resource's \"snippet\" object.\n",
    "            ref[key] = {}\n",
    "            ref = ref[key]\n",
    "        else:\n",
    "            # For example, the property is \"snippet.description\", and the resource\n",
    "            # already has a \"snippet\" object.\n",
    "            ref = ref[key]\n",
    "    return resource\n",
    "\n",
    "# Remove keyword arguments that are not set\n",
    "def remove_empty_kwargs(**kwargs):\n",
    "    good_kwargs = {}\n",
    "    if kwargs is not None:\n",
    "        for key, value in kwargs.items():\n",
    "            if value:\n",
    "                good_kwargs[key] = value\n",
    "    return good_kwargs\n",
    "\n",
    "if __name__ == '__main__':\n",
    "    # When running locally, disable OAuthlib's HTTPs verification. When\n",
    "    # running in production *do not* leave this option enabled.\n",
    "    os.environ['OAUTHLIB_INSECURE_TRANSPORT'] = '1'\n",
    "    client = get_authenticated_service()"
   ]
  },
  {
   "cell_type": "markdown",
   "metadata": {},
   "source": [
    "## Function to search videos by search term\n",
    "    - Given a search term and an integer n, this function will return the n first results for the term\n",
    "    - Videos are limited to those that have CCs and are longer than 20 minutes (these paramenters can be changed)\n",
    "    - Returns a DF with the video title,videoID, and channelID"
   ]
  },
  {
   "cell_type": "code",
   "execution_count": 252,
   "metadata": {},
   "outputs": [
    {
     "data": {
      "text/plain": [
       "\"Linear_Algebra_Videos = youtube_search('[linear+algebra]',1000)\""
      ]
     },
     "execution_count": 252,
     "metadata": {},
     "output_type": "execute_result"
    }
   ],
   "source": [
    "def youtube_keyword(client, **kwargs):    \n",
    "    # See full sample for function\n",
    "    kwargs = remove_empty_kwargs(**kwargs)\n",
    "    response = client.search().list(\n",
    "        **kwargs\n",
    "        ).execute()    \n",
    "    return response\n",
    "\n",
    "def youtube_search (criteria,n_terms):   \n",
    "    #create lists and empty dataframe\n",
    "    titles = []\n",
    "    videoIds = []\n",
    "    channelIds = []\n",
    "    resp_df = pd.DataFrame()\n",
    "    \n",
    "    while len(titles) < n_terms:\n",
    "        token = None\n",
    "        response = youtube_keyword(client,\n",
    "                        part='id,snippet',\n",
    "                        maxResults=50,\n",
    "                        q=criteria,#whatever you search for above\n",
    "                        videoCaption='closedCaption',#we only want videos with CCs\n",
    "                        type='video', #because we specify duration\n",
    "                        videoDuration='long',#videos longer than 20 minutes\n",
    "                        pageToken=token) #this will update for the next 50 results\n",
    "                                         \n",
    "        for item in response['items']:\n",
    "        \n",
    "            titles.append(item['snippet']['title'])\n",
    "            channelIds.append(item['snippet']['channelTitle'])\n",
    "            videoIds.append(item['id']['videoId'])\n",
    "        \n",
    "        token = response['nextPageToken']\n",
    "    resp_df['titles'] = titles\n",
    "    resp_df['channelIds'] = channelIds\n",
    "    resp_df['videoIds'] = videoIds\n",
    "    \n",
    "    return resp_df\n",
    "\n",
    "#Sample usage\n",
    "\n",
    "'''Linear_Algebra_Videos = youtube_search('[linear+algebra]',1000)'''\n"
   ]
  },
  {
   "cell_type": "markdown",
   "metadata": {},
   "source": [
    "## Function to get a list of videoIDs for a given playlist\n",
    "    -This function takes a playlistID and returns a list of videosIDs for that playlistID"
   ]
  },
  {
   "cell_type": "code",
   "execution_count": 353,
   "metadata": {},
   "outputs": [],
   "source": [
    "def playlist_items_list_by_playlist_id(client, **kwargs):\n",
    "    # See full sample for function\n",
    "    kwargs = remove_empty_kwargs(**kwargs)\n",
    "\n",
    "    response = client.playlistItems().list(\n",
    "    **kwargs\n",
    "    ).execute()\n",
    "\n",
    "    return response\n",
    "\n",
    "\n",
    "def get_vid_ids (play_lists):\n",
    "    #generate data from call\n",
    "    titles = []\n",
    "    descriptions = []\n",
    "    channelids = []\n",
    "    vidids = []\n",
    "    playlist_ids = []\n",
    "    video_df = pd.DataFrame()\n",
    "    for play_list in play_lists:\n",
    "        #request playlist items\n",
    "        pl_data = playlist_items_list_by_playlist_id(client,\n",
    "                            part='snippet,contentDetails',\n",
    "                            maxResults=50,\n",
    "                            playlistId=play_list)\n",
    "        \n",
    "        #extract information about each video in the playlist\n",
    "        \n",
    "        for item in pl_data['items']:\n",
    "                titles.append(item['snippet']['title'])\n",
    "                descriptions.append(item['snippet']['description'])\n",
    "                channelids.append(item['snippet']['channelTitle'])\n",
    "                vidids.append(item['snippet']['resourceId']['videoId'])\n",
    "                playlist_ids.append(item['snippet']['playlistId'])\n",
    "                \n",
    "    video_df['title'] = titles\n",
    "    video_df['description'] = descriptions\n",
    "    video_df['channelid'] = channelids\n",
    "    video_df['videoids'] = vidids\n",
    "    video_df['playlist_id'] = playlist_ids\n",
    "            \n",
    "                \n",
    "    return video_df"
   ]
  },
  {
   "cell_type": "markdown",
   "metadata": {},
   "source": [
    "## Importing a list of playlists"
   ]
  },
  {
   "cell_type": "code",
   "execution_count": 314,
   "metadata": {},
   "outputs": [],
   "source": [
    "#import csv of target play lists\n",
    "pl_df = pd.read_csv('playlists_math.csv')\n",
    "pl_df.head()\n",
    "#coorect a playlist\n",
    "pl_df.iloc[17].PlaylistID = 'PLUl4u3cNGP61hsJNdULdudlRL493b-XZf'"
   ]
  },
  {
   "cell_type": "code",
   "execution_count": 315,
   "metadata": {},
   "outputs": [
    {
     "data": {
      "text/html": [
       "<div>\n",
       "<style scoped>\n",
       "    .dataframe tbody tr th:only-of-type {\n",
       "        vertical-align: middle;\n",
       "    }\n",
       "\n",
       "    .dataframe tbody tr th {\n",
       "        vertical-align: top;\n",
       "    }\n",
       "\n",
       "    .dataframe thead th {\n",
       "        text-align: right;\n",
       "    }\n",
       "</style>\n",
       "<table border=\"1\" class=\"dataframe\">\n",
       "  <thead>\n",
       "    <tr style=\"text-align: right;\">\n",
       "      <th></th>\n",
       "      <th>PlaylistID</th>\n",
       "      <th>LectureName</th>\n",
       "    </tr>\n",
       "  </thead>\n",
       "  <tbody>\n",
       "    <tr>\n",
       "      <th>0</th>\n",
       "      <td>PLUl4u3cNGP60hI9ATjSFgLZpbNJ7myAg6</td>\n",
       "      <td>Introduction to Probability</td>\n",
       "    </tr>\n",
       "    <tr>\n",
       "      <th>1</th>\n",
       "      <td>PLUl4u3cNGP60uVBMaoNERc6knT_MgPKS0</td>\n",
       "      <td>Intro to Statistics</td>\n",
       "    </tr>\n",
       "  </tbody>\n",
       "</table>\n",
       "</div>"
      ],
      "text/plain": [
       "                           PlaylistID                   LectureName\n",
       "0  PLUl4u3cNGP60hI9ATjSFgLZpbNJ7myAg6   Introduction to Probability\n",
       "1  PLUl4u3cNGP60uVBMaoNERc6knT_MgPKS0           Intro to Statistics"
      ]
     },
     "execution_count": 315,
     "metadata": {},
     "output_type": "execute_result"
    }
   ],
   "source": [
    "pl_df.head(2)"
   ]
  },
  {
   "cell_type": "code",
   "execution_count": 407,
   "metadata": {
    "scrolled": true
   },
   "outputs": [
    {
     "data": {
      "text/html": [
       "<div>\n",
       "<style scoped>\n",
       "    .dataframe tbody tr th:only-of-type {\n",
       "        vertical-align: middle;\n",
       "    }\n",
       "\n",
       "    .dataframe tbody tr th {\n",
       "        vertical-align: top;\n",
       "    }\n",
       "\n",
       "    .dataframe thead th {\n",
       "        text-align: right;\n",
       "    }\n",
       "</style>\n",
       "<table border=\"1\" class=\"dataframe\">\n",
       "  <thead>\n",
       "    <tr style=\"text-align: right;\">\n",
       "      <th></th>\n",
       "      <th>0</th>\n",
       "    </tr>\n",
       "  </thead>\n",
       "  <tbody>\n",
       "    <tr>\n",
       "      <th>0</th>\n",
       "      <td>PLqOZ6FD_RQ7k-j-86QUC2_0nEu0QOP-Wy</td>\n",
       "    </tr>\n",
       "    <tr>\n",
       "      <th>1</th>\n",
       "      <td>PLqOZ6FD_RQ7mxsWrqTwndCBFXAKC0Xho9</td>\n",
       "    </tr>\n",
       "    <tr>\n",
       "      <th>2</th>\n",
       "      <td>PL2_aWCzGMAwI3W_JlcBbtYTwiQSsOTa6P</td>\n",
       "    </tr>\n",
       "    <tr>\n",
       "      <th>3</th>\n",
       "      <td>PLHXZ9OQGMqxfUl0tcqPNTJsb7R6BqSLo6</td>\n",
       "    </tr>\n",
       "    <tr>\n",
       "      <th>4</th>\n",
       "      <td>PLQiyVNMpDLKnZYBTUOlSI9mi9wAErFtFm</td>\n",
       "    </tr>\n",
       "  </tbody>\n",
       "</table>\n",
       "</div>"
      ],
      "text/plain": [
       "                                    0\n",
       "0  PLqOZ6FD_RQ7k-j-86QUC2_0nEu0QOP-Wy\n",
       "1  PLqOZ6FD_RQ7mxsWrqTwndCBFXAKC0Xho9\n",
       "2  PL2_aWCzGMAwI3W_JlcBbtYTwiQSsOTa6P\n",
       "3  PLHXZ9OQGMqxfUl0tcqPNTJsb7R6BqSLo6\n",
       "4  PLQiyVNMpDLKnZYBTUOlSI9mi9wAErFtFm"
      ]
     },
     "execution_count": 407,
     "metadata": {},
     "output_type": "execute_result"
    }
   ],
   "source": [
    "pl2 = pd.read_csv('mathlist2.csv',header=None)\n",
    "pl2.head()"
   ]
  },
  {
   "cell_type": "code",
   "execution_count": 409,
   "metadata": {},
   "outputs": [
    {
     "data": {
      "text/plain": [
       "'PLqOZ6FD_RQ7k-j-86QUC2_0nEu0QOP-Wy'"
      ]
     },
     "execution_count": 409,
     "metadata": {},
     "output_type": "execute_result"
    }
   ],
   "source": [
    "testlist= ['PLSQl0a2vh4HBtgpgKiL63j-n2-KlAejCN','PLSQl0a2vh4HBdTlkyCh7g-DRr53z1IKDl']\n",
    "pl2[0][0]"
   ]
  },
  {
   "cell_type": "code",
   "execution_count": 1,
   "metadata": {
    "scrolled": true
   },
   "outputs": [
    {
     "ename": "NameError",
     "evalue": "name 'time' is not defined",
     "output_type": "error",
     "traceback": [
      "\u001b[0;31m---------------------------------------------------------------------------\u001b[0m",
      "\u001b[0;31mNameError\u001b[0m                                 Traceback (most recent call last)",
      "\u001b[0;32m<ipython-input-1-cbb5f3dcdd97>\u001b[0m in \u001b[0;36m<module>\u001b[0;34m\u001b[0m\n\u001b[1;32m      1\u001b[0m \u001b[0;31m#call our function to get the videoIDs of the playlists\u001b[0m\u001b[0;34m\u001b[0m\u001b[0;34m\u001b[0m\u001b[0;34m\u001b[0m\u001b[0m\n\u001b[0;32m----> 2\u001b[0;31m \u001b[0mt1\u001b[0m \u001b[0;34m=\u001b[0m \u001b[0mtime\u001b[0m\u001b[0;34m.\u001b[0m\u001b[0mtime\u001b[0m\u001b[0;34m(\u001b[0m\u001b[0;34m)\u001b[0m\u001b[0;34m\u001b[0m\u001b[0;34m\u001b[0m\u001b[0m\n\u001b[0m\u001b[1;32m      3\u001b[0m \u001b[0mvideo_df\u001b[0m \u001b[0;34m=\u001b[0m \u001b[0mget_vid_ids\u001b[0m\u001b[0;34m(\u001b[0m\u001b[0;34m[\u001b[0m\u001b[0;34m'PL58F1D0056F04CF8C'\u001b[0m\u001b[0;34m]\u001b[0m\u001b[0;34m)\u001b[0m\u001b[0;34m\u001b[0m\u001b[0;34m\u001b[0m\u001b[0m\n\u001b[1;32m      4\u001b[0m \u001b[0mprint\u001b[0m\u001b[0;34m(\u001b[0m\u001b[0;34m\"Num Videos listed in {} minutes\"\u001b[0m\u001b[0;34m.\u001b[0m\u001b[0mformat\u001b[0m\u001b[0;34m(\u001b[0m\u001b[0;34m(\u001b[0m\u001b[0mtime\u001b[0m\u001b[0;34m.\u001b[0m\u001b[0mtime\u001b[0m\u001b[0;34m(\u001b[0m\u001b[0;34m)\u001b[0m\u001b[0;34m-\u001b[0m\u001b[0mt1\u001b[0m\u001b[0;34m)\u001b[0m\u001b[0;34m/\u001b[0m\u001b[0;36m60\u001b[0m\u001b[0;34m)\u001b[0m\u001b[0;34m)\u001b[0m\u001b[0;34m\u001b[0m\u001b[0;34m\u001b[0m\u001b[0m\n",
      "\u001b[0;31mNameError\u001b[0m: name 'time' is not defined"
     ]
    }
   ],
   "source": [
    "#call our function to get the videoIDs of the playlists\n",
    "t1 = time.time()\n",
    "video_df = get_vid_ids(['PL58F1D0056F04CF8C'])\n",
    "print(\"Num Videos listed in {} minutes\".format((time.time()-t1)/60))"
   ]
  },
  {
   "cell_type": "code",
   "execution_count": 411,
   "metadata": {},
   "outputs": [
    {
     "name": "stdout",
     "output_type": "stream",
     "text": [
      "Number of VideoIds downloaded: 439\n"
     ]
    }
   ],
   "source": [
    "print('Number of VideoIds downloaded: {}'.format(len(video_df.videoids)))"
   ]
  },
  {
   "cell_type": "markdown",
   "metadata": {},
   "source": [
    "## Function to scrape Captions \n",
    "    -Given a list of videoIds, this function will download the CCs if available.\n",
    "    -As this function does not utilize the API, it is not subject to a quota(be nice)\n",
    "    -Also, its slow so be patient"
   ]
  },
  {
   "cell_type": "code",
   "execution_count": 419,
   "metadata": {},
   "outputs": [],
   "source": [
    "#This is the function that will actually download the CCs, it takes a while as it writes a .vtt file to disk\n",
    "def get_all_ccs(vids):\n",
    "    base_url = 'https://www.youtube.com/watch?v='\n",
    "    lang=\"en\"\n",
    "    for vid in vids:\n",
    "        url = base_url + vid\n",
    "        cmd = [\"youtube-dl\",\"--skip-download\",\"--write-sub\",\n",
    "               \"--sub-lang\",lang,url]\n",
    "        os.system(\" \".join(cmd))"
   ]
  },
  {
   "cell_type": "code",
   "execution_count": 420,
   "metadata": {},
   "outputs": [
    {
     "name": "stdout",
     "output_type": "stream",
     "text": [
      "Captions downloaded in 17.4406880180041 minutes\n"
     ]
    }
   ],
   "source": [
    "t1 = time.time()\n",
    "\n",
    "get_all_ccs(video_df.videoids)\n",
    "\n",
    "print(\"Captions downloaded in {} minutes\".format((time.time()-t1)/60))"
   ]
  },
  {
   "cell_type": "code",
   "execution_count": 422,
   "metadata": {},
   "outputs": [
    {
     "name": "stdout",
     "output_type": "stream",
     "text": [
      "Captions Downloaded 195\n"
     ]
    }
   ],
   "source": [
    "#Enumerate .vtt files in cwd\n",
    "filenames_vtt = filenames_vtt = [os.fsdecode(file) for file in os.listdir(os.getcwd())\\\n",
    "                                 if os.fsdecode(file).endswith(\".vtt\")]\n",
    "print('Captions Downloaded {}'.format(len(filenames_vtt)))"
   ]
  },
  {
   "cell_type": "code",
   "execution_count": 423,
   "metadata": {},
   "outputs": [
    {
     "data": {
      "text/plain": [
       "['Determining whether a transformation is onto _ Linear Algebra _ Khan Academy-eR8vEdJTvd0.en.vtt',\n",
       " 'More on linear independence _ Vectors and spaces _ Linear Algebra _ Khan Academy-Alhcv5d_XOs.en.vtt']"
      ]
     },
     "execution_count": 423,
     "metadata": {},
     "output_type": "execute_result"
    }
   ],
   "source": [
    "#look at how they're saved\n",
    "filenames_vtt[:2]"
   ]
  },
  {
   "cell_type": "markdown",
   "metadata": {},
   "source": [
    "## Fuction to convert .vtt files to csv files\n",
    "    -Given a list of file names, this funtion will convert the .vtt in the cwd to\n",
    "    a csv file with the test, start time and stop time for each line.\n",
    "    -it also removes the downloaded .vtt files"
   ]
  },
  {
   "cell_type": "code",
   "execution_count": 424,
   "metadata": {},
   "outputs": [],
   "source": [
    "def convert_vtt(filenames):    \n",
    "    #create an assets folder if one does not yet exist\n",
    "    if os.path.isdir('{}/assets2'.format(os.getcwd())) == False:\n",
    "        os.makedirs('assets2')\n",
    "    #extract the text and times from the vtt file\n",
    "    for file in filenames:\n",
    "        captions = webvtt.read(file)\n",
    "        text_time = pd.DataFrame()\n",
    "        text_time['text'] = [caption.text for caption in captions]\n",
    "        text_time['start'] = [caption.start for caption in captions]\n",
    "        text_time['stop'] = [caption.end for caption in captions]\n",
    "        text_time.to_csv('assets2/{}.csv'.format(file[:-4]),index=False) #-4 to remove '.vtt'\n",
    "        #remove files from local drive\n",
    "        os.remove(file)"
   ]
  },
  {
   "cell_type": "code",
   "execution_count": 425,
   "metadata": {},
   "outputs": [],
   "source": [
    "#convert the vtt and creat csvs in assets folder\n",
    "convert_vtt(filenames_vtt)"
   ]
  },
  {
   "cell_type": "markdown",
   "metadata": {},
   "source": [
    "## General Clean up\n",
    "    -Here clean up the csv file names and get the text into a dataframe"
   ]
  },
  {
   "cell_type": "code",
   "execution_count": 466,
   "metadata": {},
   "outputs": [],
   "source": [
    "#Get a list of the CSV files \n",
    "csv_files = [os.fsdecode(file) for file in os.listdir(os.getcwd()+'/assets2') \\\n",
    "                    if os.fsdecode(file).endswith('.csv')]"
   ]
  },
  {
   "cell_type": "code",
   "execution_count": 467,
   "metadata": {},
   "outputs": [
    {
     "data": {
      "text/plain": [
       "193"
      ]
     },
     "execution_count": 467,
     "metadata": {},
     "output_type": "execute_result"
    }
   ],
   "source": [
    "len(csv_files)"
   ]
  },
  {
   "cell_type": "code",
   "execution_count": 468,
   "metadata": {},
   "outputs": [
    {
     "data": {
      "text/plain": [
       "'VisualizingacolumnspaceasaplaneinR3_Vectorsandspaces_LinearAlgebra_KhanAcademy-EGNlXtjYABw.en.csv'"
      ]
     },
     "execution_count": 468,
     "metadata": {},
     "output_type": "execute_result"
    }
   ],
   "source": [
    "#look at a file example\n",
    "csv_files[0]"
   ]
  },
  {
   "cell_type": "code",
   "execution_count": 469,
   "metadata": {},
   "outputs": [],
   "source": [
    "#remove the spaces from the names\n",
    "path = 'assets2/'\n",
    "for filename in csv_files:\n",
    "    os.rename(os.path.join(path, filename), os.path.join(path, filename.replace(' ', '')))"
   ]
  },
  {
   "cell_type": "code",
   "execution_count": 470,
   "metadata": {},
   "outputs": [
    {
     "data": {
      "text/plain": [
       "'clean_csv'"
      ]
     },
     "execution_count": 470,
     "metadata": {},
     "output_type": "execute_result"
    }
   ],
   "source": [
    "clean_csv = sorted([os.fsdecode(file) for file in os.listdir(os.getcwd()+'/assets2')])\n",
    "'''clean_csv'''"
   ]
  },
  {
   "cell_type": "code",
   "execution_count": 471,
   "metadata": {},
   "outputs": [
    {
     "name": "stdout",
     "output_type": "stream",
     "text": [
      "_X_QwpXsdOs\n",
      "_X_QwpXsdOs\n",
      "success\n",
      "WY6QG0mZ7uQ\n",
      "WY6QG0mZ7uQ\n",
      "success\n",
      "3uO_uPb9H8w\n",
      "3uO_uPb9H8w\n",
      "success\n",
      "UFWAu8Ptth0\n",
      "UFWAu8Ptth0\n",
      "success\n",
      "SPVqgkOZMAc\n",
      "SPVqgkOZMAc\n",
      "success\n",
      "UyCwAFQt4v0\n",
      "UyCwAFQt4v0\n",
      "success\n",
      "0c7dt2SQfLw\n",
      "0c7dt2SQfLw\n",
      "success\n",
      "8QihetGj3pg\n",
      "8QihetGj3pg\n",
      "success\n",
      "BQMyeQOLvpg\n",
      "BQMyeQOLvpg\n",
      "success\n",
      "jH5qflAe3C8\n",
      "jH5qflAe3C8\n",
      "success\n",
      "hWokyBoo0aI\n",
      "hWokyBoo0aI\n",
      "success\n",
      "zntNi3-ybfQ\n",
      "zntNi3-ybfQ\n",
      "success\n",
      "COZK7NATh4k\n",
      "COZK7NATh4k\n",
      "success\n",
      "86g8jAQug04\n",
      "86g8jAQug04\n",
      "success\n",
      "gm8DUJJhmY4\n",
      "gm8DUJJhmY4\n",
      "success\n",
      "9RHO6jU--GU\n",
      "9RHO6jU--GU\n",
      "success\n",
      "QZOLb0xHB_Q\n",
      "QZOLb0xHB_Q\n",
      "success\n",
      "yEwSGhSsT0U\n",
      "yEwSGhSsT0U\n",
      "success\n",
      "st6D5OdFV9M\n",
      "st6D5OdFV9M\n",
      "success\n",
      "6xEO4BeawzA\n",
      "6xEO4BeawzA\n",
      "success\n",
      "jJyRrIZ595c\n",
      "jJyRrIZ595c\n",
      "success\n",
      "rGaM6pwqhB0\n",
      "rGaM6pwqhB0\n",
      "success\n",
      "f_DTiXZpb8M\n",
      "f_DTiXZpb8M\n",
      "success\n",
      "BuqcKpe5ZQs\n",
      "BuqcKpe5ZQs\n",
      "success\n",
      "8Amgakx5aII\n",
      "8Amgakx5aII\n",
      "success\n",
      "pJzmiywagfY\n",
      "pJzmiywagfY\n",
      "success\n",
      "lC-yYCOnN8Q\n",
      "lC-yYCOnN8Q\n",
      "success\n",
      "MuwxQ2IB8lQ\n",
      "MuwxQ2IB8lQ\n",
      "success\n",
      "HdFG8L1sajw\n",
      "HdFG8L1sajw\n",
      "success\n",
      "okr-XE8yTO8\n",
      "okr-XE8yTO8\n",
      "success\n",
      "sFVxsglODoo\n",
      "sFVxsglODoo\n",
      "success\n",
      "pYT9F8_LFTM\n",
      "pYT9F8_LFTM\n",
      "success\n",
      "H5JubkIy_p8\n",
      "H5JubkIy_p8\n",
      "success\n",
      "JdQeNxWCguQ\n",
      "JdQeNxWCguQ\n",
      "success\n",
      "XuCbpw6Bj1U\n",
      "XuCbpw6Bj1U\n",
      "success\n",
      "qH6yxkw0u78\n",
      "qH6yxkw0u78\n",
      "success\n",
      "gXgEDyodOJU\n",
      "gXgEDyodOJU\n",
      "success\n",
      "F1F2imiOJfk\n",
      "F1F2imiOJfk\n",
      "success\n",
      "A5_XdiK4J8A\n",
      "A5_XdiK4J8A\n",
      "success\n",
      "AfYqN3fGapc\n",
      "AfYqN3fGapc\n",
      "success\n",
      "UJxgcVaNTqY\n",
      "UJxgcVaNTqY\n",
      "success\n",
      "5AWob_z74Ks\n",
      "5AWob_z74Ks\n",
      "success\n",
      "gcULXE7ViZw\n",
      "gcULXE7ViZw\n",
      "success\n",
      "6DpzCKJBsz0\n",
      "6DpzCKJBsz0\n",
      "success\n",
      "kpG7xySkivg\n",
      "kpG7xySkivg\n",
      "success\n",
      "n-S63_goDFg\n",
      "n-S63_goDFg\n",
      "success\n",
      "g3MqSdO5Ubc\n",
      "g3MqSdO5Ubc\n",
      "success\n",
      "nu87kfmwNfU\n",
      "nu87kfmwNfU\n",
      "success\n",
      "VrB3LaSD_uo\n",
      "VrB3LaSD_uo\n",
      "success\n",
      "32rdijPB-rA\n",
      "32rdijPB-rA\n",
      "success\n",
      "eR8vEdJTvd0\n",
      "eR8vEdJTvd0\n",
      "success\n",
      "sU5MCM3npXU\n",
      "sU5MCM3npXU\n",
      "success\n",
      "6o7b9yyhH7k\n",
      "6o7b9yyhH7k\n",
      "success\n",
      "JUgrBkPteTg\n",
      "JUgrBkPteTg\n",
      "success\n",
      "abYAUqs_n6I\n",
      "abYAUqs_n6I\n",
      "success\n",
      "4qfdCwys2ew\n",
      "4qfdCwys2ew\n",
      "success\n",
      "v8plb6V8BQo\n",
      "v8plb6V8BQo\n",
      "success\n",
      "oMWTMj78cwc\n",
      "oMWTMj78cwc\n",
      "success\n",
      "tdwFdzVqito\n",
      "tdwFdzVqito\n",
      "success\n",
      "VOQNf1VxU3Q\n",
      "VOQNf1VxU3Q\n",
      "success\n",
      "gYv8sttBIqs\n",
      "gYv8sttBIqs\n",
      "success\n",
      "q87L9R9v274\n",
      "q87L9R9v274\n",
      "success\n",
      "SJVhtIGAkKs\n",
      "SJVhtIGAkKs\n",
      "success\n",
      "MeRb_1bddWg\n",
      "MeRb_1bddWg\n",
      "success\n",
      "Pb04ntcDJcQ\n",
      "Pb04ntcDJcQ\n",
      "success\n",
      "utQi1ZhF__Q\n",
      "utQi1ZhF__Q\n",
      "success\n",
      "eu_GFuU7tLI\n",
      "eu_GFuU7tLI\n",
      "success\n",
      "iEpqcdaJNTQ\n",
      "iEpqcdaJNTQ\n",
      "success\n",
      "a7wYAtMjORQ\n",
      "a7wYAtMjORQ\n",
      "success\n",
      "r9aTLTN16V4\n",
      "r9aTLTN16V4\n",
      "success\n",
      "1PsNIzUJPkc\n",
      "1PsNIzUJPkc\n",
      "success\n",
      "JK-8XNIoAkI\n",
      "JK-8XNIoAkI\n",
      "success\n",
      "_pnqMz5nrRs\n",
      "_pnqMz5nrRs\n",
      "success\n",
      "6YRGEsQWZzY\n",
      "6YRGEsQWZzY\n",
      "success\n",
      "9Wfn-WWV1aY\n",
      "9Wfn-WWV1aY\n",
      "success\n",
      "eEUK_ThrHuQ\n",
      "eEUK_ThrHuQ\n",
      "success\n",
      "ZdY1Fp9dKzs\n",
      "ZdY1Fp9dKzs\n",
      "success\n",
      "9C2cpQZVRBA\n",
      "9C2cpQZVRBA\n",
      "success\n",
      "MIAmN5kgp3k\n",
      "MIAmN5kgp3k\n",
      "success\n",
      "jos1Flt21is\n",
      "jos1Flt21is\n",
      "success\n",
      "vq-nUF0G4fI\n",
      "vq-nUF0G4fI\n",
      "success\n",
      "5cPbNCrdotA\n",
      "5cPbNCrdotA\n",
      "success\n",
      "j511hg7Hlbg\n",
      "j511hg7Hlbg\n",
      "success\n",
      "0NyeDUhKwBE\n",
      "0NyeDUhKwBE\n",
      "success\n",
      "92S4zgXN17o\n",
      "92S4zgXN17o\n",
      "success\n",
      "CrV1xCWdY-g\n",
      "CrV1xCWdY-g\n",
      "success\n",
      "NobHlGUjV3g\n",
      "NobHlGUjV3g\n",
      "success\n",
      "27vT-NWuw0M\n",
      "27vT-NWuw0M\n",
      "success\n",
      "IW4Reburjpc\n",
      "IW4Reburjpc\n",
      "success\n",
      "-eAzhBZgq28\n",
      "-eAzhBZgq28\n",
      "success\n",
      "jCwRV1QL_Xs\n",
      "jCwRV1QL_Xs\n",
      "success\n",
      "BbqbvSig6Mc\n",
      "BbqbvSig6Mc\n",
      "success\n",
      "R0JY8oWsuOY\n",
      "R0JY8oWsuOY\n",
      "success\n",
      "E2VxbufzuWQ\n",
      "E2VxbufzuWQ\n",
      "success\n",
      "OiNh2DswFt4\n",
      "OiNh2DswFt4\n",
      "success\n",
      "33TYoybjqPg\n",
      "33TYoybjqPg\n",
      "success\n",
      "fyJkXBvcA2Q\n",
      "fyJkXBvcA2Q\n",
      "success\n",
      "qhKJ1DG9kYY\n",
      "qhKJ1DG9kYY\n",
      "success\n",
      "pZIaUx3UQoA\n",
      "pZIaUx3UQoA\n",
      "success\n",
      "vhfjEpQWWeE\n",
      "vhfjEpQWWeE\n",
      "success\n",
      "4Mr7aEHQr8E\n",
      "4Mr7aEHQr8E\n",
      "success\n",
      "EdQ7Q9VoF44\n",
      "EdQ7Q9VoF44\n",
      "success\n",
      "3uYb-RhM7lU\n",
      "3uYb-RhM7lU\n",
      "success\n",
      "Qm_OS-8COwU\n",
      "Qm_OS-8COwU\n",
      "success\n",
      "pMFv6liWK4M\n",
      "pMFv6liWK4M\n",
      "success\n",
      "lPWfIq5DzqI\n",
      "lPWfIq5DzqI\n",
      "success\n",
      "qkfODKmZ-x4\n",
      "qkfODKmZ-x4\n",
      "success\n",
      "4PCktDZJH8E\n",
      "4PCktDZJH8E\n",
      "success\n",
      "PErhLkQcpZ8\n",
      "PErhLkQcpZ8\n",
      "success\n",
      "vcQIFT79_50\n",
      "vcQIFT79_50\n",
      "success\n",
      "Y0n86K43GO4\n",
      "Y0n86K43GO4\n",
      "success\n",
      "IbvsNF22Ud0\n",
      "IbvsNF22Ud0\n",
      "success\n",
      "cAZ8CyDY56s\n",
      "cAZ8CyDY56s\n",
      "success\n",
      "oiDvNs15tkE\n",
      "oiDvNs15tkE\n",
      "success\n",
      "-fIsaqN-aaQ\n",
      "-fIsaqN-aaQ\n",
      "success\n",
      "gMcs6RF_LrQ\n",
      "gMcs6RF_LrQ\n",
      "success\n",
      "nqHLEhz5DXY\n",
      "nqHLEhz5DXY\n",
      "success\n",
      "L0CmbneYETs\n",
      "L0CmbneYETs\n",
      "success\n",
      "lP1DGtZ8Wys\n",
      "lP1DGtZ8Wys\n",
      "success\n",
      "JVDrlTdzxiI\n",
      "JVDrlTdzxiI\n",
      "success\n",
      "M3FuL9qKTBs\n",
      "M3FuL9qKTBs\n",
      "success\n",
      "Hhc96U_HvQE\n",
      "Hhc96U_HvQE\n",
      "success\n",
      "7Mo4S2wyMg4\n",
      "7Mo4S2wyMg4\n",
      "success\n",
      "ondmopWLiEg\n",
      "ondmopWLiEg\n",
      "success\n",
      "_JpS8k1a9yE\n",
      "_JpS8k1a9yE\n",
      "success\n",
      "IYFkXWlgC_w\n",
      "IYFkXWlgC_w\n",
      "success\n",
      "Alhcv5d_XOs\n",
      "Alhcv5d_XOs\n",
      "success\n",
      "Z19-ObbmHJE\n",
      "Z19-ObbmHJE\n",
      "success\n",
      "ZN7YaSbY3-w\n",
      "ZN7YaSbY3-w\n",
      "success\n",
      "IICR-w1jYcA\n",
      "IICR-w1jYcA\n",
      "success\n",
      "gw-4wltP5tY\n",
      "gw-4wltP5tY\n",
      "success\n",
      "qvyboGryeA8\n",
      "qvyboGryeA8\n",
      "success\n",
      "vFctYRhK2M0\n",
      "vFctYRhK2M0\n",
      "success\n",
      "_uTAdf_AsfQ\n",
      "_uTAdf_AsfQ\n",
      "success\n",
      "C5-lz0hcqsE\n",
      "C5-lz0hcqsE\n",
      "success\n",
      "hWhs2cIj7Cw\n",
      "hWhs2cIj7Cw\n",
      "success\n",
      "-cApVwKR1Ps\n",
      "-cApVwKR1Ps\n",
      "success\n",
      "6jqx5uEBs5U\n",
      "6jqx5uEBs5U\n",
      "success\n",
      "E444KhRcWSk\n",
      "E444KhRcWSk\n",
      "success\n",
      "7rIFO8hct9g\n",
      "7rIFO8hct9g\n",
      "success\n",
      "6yrPU8rYOhs\n",
      "6yrPU8rYOhs\n",
      "success\n",
      "K7J3nCeRC80\n",
      "K7J3nCeRC80\n",
      "success\n",
      "Zn2K8UIT8r4\n",
      "Zn2K8UIT8r4\n",
      "success\n",
      "7GEUgRcnfVE\n",
      "7GEUgRcnfVE\n",
      "success\n",
      "7MKA2QlKvHc\n",
      "7MKA2QlKvHc\n",
      "success\n",
      "r2PogGDl8_U\n",
      "r2PogGDl8_U\n",
      "success\n",
      "rVQ3G9epCjw\n",
      "rVQ3G9epCjw\n",
      "success\n",
      "lCsjJbZHhHU\n",
      "lCsjJbZHhHU\n",
      "success\n",
      "QIU1daMN8fw\n",
      "QIU1daMN8fw\n",
      "success\n",
      "NW9JfMvIsxw\n",
      "NW9JfMvIsxw\n",
      "success\n",
      "YezsgIlcb68\n",
      "YezsgIlcb68\n",
      "success\n",
      "sYcOK51hl-A\n",
      "sYcOK51hl-A\n",
      "success\n",
      "KYH83T4q6Vs\n",
      "KYH83T4q6Vs\n",
      "success\n",
      "hNP72JdOIgY\n",
      "hNP72JdOIgY\n",
      "success\n",
      "gkyuLPzfDV0\n",
      "gkyuLPzfDV0\n",
      "success\n",
      "qBfc57x_RSg\n",
      "qBfc57x_RSg\n",
      "success\n",
      "4xFIi0JF2AM\n",
      "4xFIi0JF2AM\n",
      "success\n",
      "DL-ozRGDlkY\n",
      "DL-ozRGDlkY\n",
      "success\n",
      "BfVjTOjvI30\n",
      "BfVjTOjvI30\n",
      "success\n",
      "ESSMQH6Y5OA\n",
      "ESSMQH6Y5OA\n",
      "success\n",
      "mr9Tow8hpCg\n",
      "mr9Tow8hpCg\n",
      "success\n",
      "CkQOCnLWPUA\n",
      "CkQOCnLWPUA\n",
      "success\n",
      "QV0jsTiobU4\n",
      "QV0jsTiobU4\n",
      "success\n",
      "Yz2OosyMTmY\n",
      "Yz2OosyMTmY\n",
      "success\n",
      "LoaagZPWvpM\n",
      "LoaagZPWvpM\n",
      "success\n",
      "j_Taf2Tgggo\n",
      "j_Taf2Tgggo\n",
      "success\n",
      "NU1v-8VRirU\n",
      "NU1v-8VRirU\n",
      "success\n",
      "9kW6zFK5E5c\n",
      "9kW6zFK5E5c\n",
      "success\n",
      "TJgBEI3drUc\n",
      "TJgBEI3drUc\n",
      "success\n",
      "2t0003_sxtU\n",
      "2t0003_sxtU\n",
      "success\n",
      "UdHgWK13x5I\n",
      "UdHgWK13x5I\n",
      "success\n",
      "lSoaMCNKfAg\n",
      "lSoaMCNKfAg\n",
      "success\n",
      "Br_8t58mdeI\n",
      "Br_8t58mdeI\n",
      "success\n",
      "znE4Nq9NJCQ\n",
      "znE4Nq9NJCQ\n",
      "success\n",
      "hbJ2o9EUmJ0\n",
      "hbJ2o9EUmJ0\n",
      "success\n",
      "I3vIAzMcm4Y\n",
      "I3vIAzMcm4Y\n",
      "success\n",
      "vAepSNDLZRM\n",
      "vAepSNDLZRM\n",
      "success\n",
      "9ylUcCOTH8Y\n",
      "9ylUcCOTH8Y\n",
      "success\n",
      "lQn7fksaDq0\n",
      "lQn7fksaDq0\n",
      "success\n",
      "VX7K8iqoiRc\n",
      "VX7K8iqoiRc\n",
      "success\n",
      "nlUG4OKN1IY\n",
      "nlUG4OKN1IY\n",
      "success\n",
      "rfyq32mHcYs\n",
      "rfyq32mHcYs\n",
      "success\n",
      "WNuIhXo39_k\n",
      "WNuIhXo39_k\n",
      "success\n",
      "r4bH66vYjss\n",
      "r4bH66vYjss\n",
      "success\n",
      "br7tS1t2SFE\n",
      "br7tS1t2SFE\n",
      "success\n",
      "gAbadNuQEjI\n",
      "gAbadNuQEjI\n",
      "success\n",
      "PsNidCBr5II\n",
      "PsNidCBr5II\n",
      "success\n",
      "b7JTVLc_aMk\n",
      "b7JTVLc_aMk\n",
      "success\n",
      "GW8ZPjGlk24\n",
      "GW8ZPjGlk24\n",
      "success\n",
      "EGNlXtjYABw\n",
      "EGNlXtjYABw\n",
      "success\n",
      "_-a-yNubpk8\n",
      "_-a-yNubpk8\n",
      "success\n",
      "hZ827mfh1Jo\n",
      "hZ827mfh1Jo\n",
      "success\n",
      "H9BWRYJNIv4\n",
      "H9BWRYJNIv4\n",
      "success\n"
     ]
    }
   ],
   "source": [
    "#extrat the text and videoid\n",
    "vidText = []\n",
    "csv_vidid = []\n",
    "#(path = 'assets/')\n",
    "for file in clean_csv:\n",
    "    print(file[-18:-7])\n",
    "    df = pd.read_csv(path+file)\n",
    "    text = \" \".join(df.text)\n",
    "    vidText.append(text)\n",
    "    csv_vidid.append(file[-18:-7])"
   ]
  },
  {
   "cell_type": "code",
   "execution_count": 458,
   "metadata": {},
   "outputs": [],
   "source": [
    "df = pd.read_csv(path+clean_csv[83])"
   ]
  },
  {
   "cell_type": "code",
   "execution_count": 460,
   "metadata": {},
   "outputs": [],
   "source": [
    "text1 = ' '.join(df.text)"
   ]
  },
  {
   "cell_type": "code",
   "execution_count": 461,
   "metadata": {},
   "outputs": [
    {
     "data": {
      "text/plain": [
       "\"A lot of what you'll learn in\\ndifferential equations is really just different\\nbags of tricks. And in this video I'll show\\nyou one of those tricks. And it's useful beyond this. Because it's always good when,\\nif maybe one day, you become a mathematician or a physicist,\\nand you have an unsolved problem. Some of these tricks that solved\\nsimpler problems back in your education might be a\\nuseful trick that solves some unsolved problems. So\\nit's good to see it. And if you're taking\\ndifferential equations, it might be on an exam. So it's good to learn. So we'll learn about integrating\\nfactors. So let's say, we have an\\nequation that has this form. Let's say this is my\\ndifferential equation. 3xy-- I'm trying to write it\\nneatly as possible-- plus y squared plus x squared plus xy\\ntimes y prime is equal to 0. So, especially since we've\\ncovered this in recent videos, whenever you see an equation\\nof this form where you have some function of xy, then you\\nhave another function of x and y times y prime equals 0, you\\nsaid, oh, this looks like this could be an exact differential\\nequation. And how do we test that? Well, we can take the partial\\nderivative of this with respect to y, and we\\ncould call this function of x and y, M. So the partial of that, with\\nrespect to y, so M partial with respect to y, would\\nbe 3x plus 2y. And if this function right here,\\nthat expression right there, that's our function\\nN, which is a function of x and y. We take the partial with respect\\nto x, and we get that is equal to 2x plus y. And in order for this to have\\nbeen an exact differential equation, the partial of this\\nwith respect to y would have to equal the partial of this\\nwith respect to x. But we see here, just by looking\\nat these two, they don't equal each other. They're not equal. So, at least superficially, the\\nway we looked at it just now, this is not an exact\\ndifferential equation. But what if there were some\\nfactor, or I guess some function that we could multiply\\nboth sides of this equation by, that would\\nmake it an exact differential equation? So let's call that mu. So what I want to do is I want\\nto multiply both sides of this equation by some function mu,\\nand then see if I can solve for that function mu that\\nwould make it exact. So let's try to do that. So let's multiply both\\nsides by mu. And just as a simplification,\\nmu could be a function of x and y. It could be a function of x. It could be a function\\nof just x. It could be function\\nof just y. I'll assume it's just\\na function of x. You could assume it's just\\na function of y and try to solve it. Or you could just assume it's\\na function of x and y. If you assume it's a function\\nof x and y, it becomes a lot harder to solve for. But that doesn't mean that\\nthere isn't one. So let's say that mu\\nis a function of x. And I want to multiply it by\\nboth of these equations. So I get mu of x times 3xy plus\\ny squared plus mu of x times x squared plus\\nxy times y prime. And then, what's 0 times\\nany function? Well, it's just going\\nto be 0, right? 0 times mu of x is just\\ngoing to be 0. But I did multiply the right\\nhand side times mu of x. And remember what we're doing. This mu of x is-- when we\\nmultiply it, the goal is, after multiplying both sides\\nof the equation by it, we should have an exact equation. So now, if we consider this\\nwhole thing our new M, the partial derivative of this with\\nrespect to y should be equal to the partial derivative\\nof this with respect to x. So what's the partial derivative\\nof this with respect to y? Well, if we're taking the\\npartial with respect to y here, mu of x, which is only\\na function of x, it's not a function of y, it's just\\na constant term, right? We take a partial with respect\\nto y. x is just a constant, or a function of x can be viewed\\njust as a constant. So the partial of this with\\nrespect to y is going to be equal to mu of x, you could just\\nsay, times 3x plus 2y. That's the partial of this\\nwith respect to y. And what's the partial of\\nthis with respect to x? Well, here, we'll use\\nthe product rule. So we'll take the derivative of\\nthe first expression with respect to x. mu of x is no\\nlonger a constant anymore, since we're taking the partial\\nwith respect to x. So the derivative of mu of\\nx with respect to x. Well, that's just mu prime\\nof x, mu prime, not U. mu prime of x. mu is the Greek letter. It's for the muh sound, but\\nit looks a lot like a U. So mu prime of x times a second\\nexpression, x squared plus xy, plus just the\\nfirst expression. This is just the product\\nrule, mu of x. Times the derivative of\\nthe second expression with respect to x. So times-- ran out of space\\non that line-- 2x plus y. And now for this new equation,\\nwhere I multiplied both sides by mu. In order for this to be exact,\\nthese two things have to be equal to each other. So let's just remember\\nthe big picture. We're kind of saying, this\\nis going to be exact. And now, we're going to\\ntry to solve for mu. So let's see if we\\ncan do that. So let's see, on this side, we\\nhave mu of x times 3x plus 2y. And let's subtract this\\nexpression from both sides. So it's minus mu of\\nx times 2x plus y. You'll see a lot of these\\ndifferential equation problems that get kind of hairy. They're really just\\na lot of algebra. And that equals-- what\\ndo we have left? I'll write it in yellow. That equals-- I'm going\\nto run out of space. I'm going to do it a\\nlittle bit lower. That equals, just this\\nterm right here. That equals mu prime of x\\ntimes x squared plus xy. And let's see, if we factor out\\na mu of x here, we get mu of x times 3x plus 2y minus 2x\\nminus y is equal to mu prime of x, the derivative of mu with\\nrespect to x, times x squared plus xy. Now, we can simplify this. So we get mu of x times-- what\\nis this-- 3x minus 2x is x. 2y minus y, so x plus y, is\\nequal to-- and I'm just going to simplify this side a\\nlittle bit-- is equal to mu prime of x. Let's factor out an x here. And the reason why I'm doing\\nthat is because it seems like if I factor out an x here,\\nI'll get an x plus y. So this is mu prime of x\\ntimes x times x plus y. x times x plus y is\\nx squared plus xy. So that's why I did it, and I\\nhave this x plus y on both sides equation, which I will\\nnow divide both sides by. So if you divide both sides by\\nx plus y, we could maybe assume that it's not 0. That simplifies things\\npretty dramatically. We get mu of x is equal to\\nmu prime of x times x. And now, just the way my brain\\nworks, I like to rewrite this expression just in our operator\\nform, where instead of writing it mu prime\\nof x, we could write that as d mu dx. So let's do that. So we could write mu of x is\\nequal to d, the derivative of mu with respect to x, times x. And this is actually a separable\\ndifferential equation in and of itself. It's kind of a sub-differential\\nequation to solve our broader one. We're just trying to figure\\nout the integrating factor right here. So let's divide both\\nsides by x. So we get mu over x, this is\\njust a separable equation now, is equal to d mu dx. And then, let's divide both\\nsides by mu of x, and we get 1 over x is equal to 1 over mu. That's mu of x, I'll just write\\n1 over mu right now, for simplicity, times d mu dx. I'm actually going to go\\nhorizontal right here. Multiply both sides by dx, you\\nget 1 over x dx is equal to 1 over mu of x d mu. Now, you could integrate both\\nsides of this, and you'll get the natural log of the absolute\\nvalue of x is equal to the natural log of the\\nabsolute value of mu, et cetera, et cetera. But it should be pretty clear\\nfrom this that x is equal to mu, or mu is equal\\nto x, right? They're identical. If you look at both sides of\\nthis equation there, you can just change x for mu, and it\\nbecomes the other side. So, this is obviously telling us\\nthat mu of x is equal to x. Or mu is equal to x. So we have our integrating\\nfactor. And if you want, you can take\\nthe antiderivative of both sides with the natural logs,\\nand all of that. And you'll get the\\nsame answer. But this is just, by looking at\\nit, by inspection, you know that mu is equal to x. Because both sides of\\nthis equation are completely the same. Anyway, we now have our\\nintegrating factor. But I am running out of time. So in the next video, we're\\nnow going to use this integrating factor. Multiply it times our original\\ndifferential equation. Make it exact. And then solve it as\\nan exact equation. I'll see you in the\\nnext video.\""
      ]
     },
     "execution_count": 461,
     "metadata": {},
     "output_type": "execute_result"
    }
   ],
   "source": [
    "text1"
   ]
  },
  {
   "cell_type": "code",
   "execution_count": 292,
   "metadata": {},
   "outputs": [],
   "source": [
    "#set up a data frame with the available caption information\n",
    "lectures_df = pd.DataFrame()\n",
    "lectures_df['lecture_title'] = clean_csv\n",
    "lectures_df['lecture_text'] = vidText\n",
    "lectures_df['vid_id'] = csv_vidid"
   ]
  },
  {
   "cell_type": "markdown",
   "metadata": {},
   "source": [
    "## Adding infomation from youtube api and captions scraped together\n",
    "    -Because we had a list of 913 videos and only 675 had downloadable captions, when we add the information together\n",
    "    we will need to discard some of the videos in the api videoId list.\n",
    "    -To do this we will join the two DFs using the video ID as the index."
   ]
  },
  {
   "cell_type": "code",
   "execution_count": 293,
   "metadata": {},
   "outputs": [
    {
     "data": {
      "text/plain": [
       "(675, 3)"
      ]
     },
     "execution_count": 293,
     "metadata": {},
     "output_type": "execute_result"
    }
   ],
   "source": [
    "lectures_df.shape"
   ]
  },
  {
   "cell_type": "code",
   "execution_count": 294,
   "metadata": {},
   "outputs": [
    {
     "data": {
      "text/html": [
       "<div>\n",
       "<style scoped>\n",
       "    .dataframe tbody tr th:only-of-type {\n",
       "        vertical-align: middle;\n",
       "    }\n",
       "\n",
       "    .dataframe tbody tr th {\n",
       "        vertical-align: top;\n",
       "    }\n",
       "\n",
       "    .dataframe thead th {\n",
       "        text-align: right;\n",
       "    }\n",
       "</style>\n",
       "<table border=\"1\" class=\"dataframe\">\n",
       "  <thead>\n",
       "    <tr style=\"text-align: right;\">\n",
       "      <th></th>\n",
       "      <th>lecture_title</th>\n",
       "      <th>lecture_text</th>\n",
       "      <th>vid_id</th>\n",
       "    </tr>\n",
       "  </thead>\n",
       "  <tbody>\n",
       "    <tr>\n",
       "      <th>0</th>\n",
       "      <td>1.AlgorithmicThinking,PeakFinding-HtSuA80QTyo....</td>\n",
       "      <td>The following\\ncontent is provided under a Cre...</td>\n",
       "      <td>HtSuA80QTyo</td>\n",
       "    </tr>\n",
       "  </tbody>\n",
       "</table>\n",
       "</div>"
      ],
      "text/plain": [
       "                                       lecture_title  \\\n",
       "0  1.AlgorithmicThinking,PeakFinding-HtSuA80QTyo....   \n",
       "\n",
       "                                        lecture_text       vid_id  \n",
       "0  The following\\ncontent is provided under a Cre...  HtSuA80QTyo  "
      ]
     },
     "execution_count": 294,
     "metadata": {},
     "output_type": "execute_result"
    }
   ],
   "source": [
    "lectures_df.head(1)"
   ]
  },
  {
   "cell_type": "code",
   "execution_count": 295,
   "metadata": {},
   "outputs": [
    {
     "data": {
      "text/html": [
       "<div>\n",
       "<style scoped>\n",
       "    .dataframe tbody tr th:only-of-type {\n",
       "        vertical-align: middle;\n",
       "    }\n",
       "\n",
       "    .dataframe tbody tr th {\n",
       "        vertical-align: top;\n",
       "    }\n",
       "\n",
       "    .dataframe thead th {\n",
       "        text-align: right;\n",
       "    }\n",
       "</style>\n",
       "<table border=\"1\" class=\"dataframe\">\n",
       "  <thead>\n",
       "    <tr style=\"text-align: right;\">\n",
       "      <th></th>\n",
       "      <th>title</th>\n",
       "      <th>description</th>\n",
       "      <th>channelid</th>\n",
       "      <th>videoids</th>\n",
       "    </tr>\n",
       "  </thead>\n",
       "  <tbody>\n",
       "    <tr>\n",
       "      <th>0</th>\n",
       "      <td>L01.1 Lecture Overview</td>\n",
       "      <td>MIT RES.6-012 Introduction to Probability, Spr...</td>\n",
       "      <td>MIT OpenCourseWare</td>\n",
       "      <td>1uW3qMFA9Ho</td>\n",
       "    </tr>\n",
       "  </tbody>\n",
       "</table>\n",
       "</div>"
      ],
      "text/plain": [
       "                    title                                        description  \\\n",
       "0  L01.1 Lecture Overview  MIT RES.6-012 Introduction to Probability, Spr...   \n",
       "\n",
       "            channelid     videoids  \n",
       "0  MIT OpenCourseWare  1uW3qMFA9Ho  "
      ]
     },
     "execution_count": 295,
     "metadata": {},
     "output_type": "execute_result"
    }
   ],
   "source": [
    "video_df.head(1)"
   ]
  },
  {
   "cell_type": "code",
   "execution_count": 331,
   "metadata": {},
   "outputs": [],
   "source": [
    "base_df = lectures_df.set_index('vid_id').join(video_df.set_index('videoids')).reset_index()"
   ]
  },
  {
   "cell_type": "code",
   "execution_count": 336,
   "metadata": {},
   "outputs": [
    {
     "data": {
      "text/plain": [
       "(699, 7)"
      ]
     },
     "execution_count": 336,
     "metadata": {},
     "output_type": "execute_result"
    }
   ],
   "source": [
    "base_df.shape"
   ]
  },
  {
   "cell_type": "code",
   "execution_count": 339,
   "metadata": {},
   "outputs": [],
   "source": [
    "#drop duplicates\n",
    "base_df = base_df.drop_duplicates(subset=['index'])"
   ]
  },
  {
   "cell_type": "code",
   "execution_count": 340,
   "metadata": {},
   "outputs": [
    {
     "data": {
      "text/plain": [
       "(675, 7)"
      ]
     },
     "execution_count": 340,
     "metadata": {},
     "output_type": "execute_result"
    }
   ],
   "source": [
    "base_dft.shape"
   ]
  },
  {
   "cell_type": "code",
   "execution_count": 343,
   "metadata": {},
   "outputs": [
    {
     "data": {
      "text/html": [
       "<div>\n",
       "<style scoped>\n",
       "    .dataframe tbody tr th:only-of-type {\n",
       "        vertical-align: middle;\n",
       "    }\n",
       "\n",
       "    .dataframe tbody tr th {\n",
       "        vertical-align: top;\n",
       "    }\n",
       "\n",
       "    .dataframe thead th {\n",
       "        text-align: right;\n",
       "    }\n",
       "</style>\n",
       "<table border=\"1\" class=\"dataframe\">\n",
       "  <thead>\n",
       "    <tr style=\"text-align: right;\">\n",
       "      <th></th>\n",
       "      <th>index</th>\n",
       "      <th>lecture_title</th>\n",
       "      <th>lecture_text</th>\n",
       "      <th>title</th>\n",
       "      <th>description</th>\n",
       "      <th>channelid</th>\n",
       "      <th>playlist_id</th>\n",
       "    </tr>\n",
       "  </thead>\n",
       "  <tbody>\n",
       "    <tr>\n",
       "      <th>0</th>\n",
       "      <td>--lPz7VFnKI</td>\n",
       "      <td>Lec39_MIT18.01SingleVariableCalculus,Fall2007-...</td>\n",
       "      <td>The following content is\\nprovided under a Cre...</td>\n",
       "      <td>Lec 39 | MIT 18.01 Single Variable Calculus, F...</td>\n",
       "      <td>Lecture 39: Final review\\nInstructor: David Je...</td>\n",
       "      <td>MIT OpenCourseWare</td>\n",
       "      <td>PL590CCC2BC5AF3BC1</td>\n",
       "    </tr>\n",
       "  </tbody>\n",
       "</table>\n",
       "</div>"
      ],
      "text/plain": [
       "         index                                      lecture_title  \\\n",
       "0  --lPz7VFnKI  Lec39_MIT18.01SingleVariableCalculus,Fall2007-...   \n",
       "\n",
       "                                        lecture_text  \\\n",
       "0  The following content is\\nprovided under a Cre...   \n",
       "\n",
       "                                               title  \\\n",
       "0  Lec 39 | MIT 18.01 Single Variable Calculus, F...   \n",
       "\n",
       "                                         description           channelid  \\\n",
       "0  Lecture 39: Final review\\nInstructor: David Je...  MIT OpenCourseWare   \n",
       "\n",
       "          playlist_id  \n",
       "0  PL590CCC2BC5AF3BC1  "
      ]
     },
     "execution_count": 343,
     "metadata": {},
     "output_type": "execute_result"
    }
   ],
   "source": [
    "base_df.head(1)"
   ]
  },
  {
   "cell_type": "code",
   "execution_count": 345,
   "metadata": {},
   "outputs": [],
   "source": [
    "base_df['vidid'] = base_df['index']\n",
    "base_df = base_df.drop(['index'],axis=1)"
   ]
  },
  {
   "cell_type": "code",
   "execution_count": 346,
   "metadata": {},
   "outputs": [
    {
     "data": {
      "text/html": [
       "<div>\n",
       "<style scoped>\n",
       "    .dataframe tbody tr th:only-of-type {\n",
       "        vertical-align: middle;\n",
       "    }\n",
       "\n",
       "    .dataframe tbody tr th {\n",
       "        vertical-align: top;\n",
       "    }\n",
       "\n",
       "    .dataframe thead th {\n",
       "        text-align: right;\n",
       "    }\n",
       "</style>\n",
       "<table border=\"1\" class=\"dataframe\">\n",
       "  <thead>\n",
       "    <tr style=\"text-align: right;\">\n",
       "      <th></th>\n",
       "      <th>lecture_title</th>\n",
       "      <th>lecture_text</th>\n",
       "      <th>title</th>\n",
       "      <th>description</th>\n",
       "      <th>channelid</th>\n",
       "      <th>playlist_id</th>\n",
       "      <th>vidid</th>\n",
       "    </tr>\n",
       "  </thead>\n",
       "  <tbody>\n",
       "    <tr>\n",
       "      <th>0</th>\n",
       "      <td>Lec39_MIT18.01SingleVariableCalculus,Fall2007-...</td>\n",
       "      <td>The following content is\\nprovided under a Cre...</td>\n",
       "      <td>Lec 39 | MIT 18.01 Single Variable Calculus, F...</td>\n",
       "      <td>Lecture 39: Final review\\nInstructor: David Je...</td>\n",
       "      <td>MIT OpenCourseWare</td>\n",
       "      <td>PL590CCC2BC5AF3BC1</td>\n",
       "      <td>--lPz7VFnKI</td>\n",
       "    </tr>\n",
       "    <tr>\n",
       "      <th>1</th>\n",
       "      <td>S01.0MathematicalBackgroundOverview--630YTQEuC...</td>\n",
       "      <td>In this sequence of segments,\\nwe review some ...</td>\n",
       "      <td>S01.0 Mathematical Background Overview</td>\n",
       "      <td>MIT RES.6-012 Introduction to Probability, Spr...</td>\n",
       "      <td>MIT OpenCourseWare</td>\n",
       "      <td>PLUl4u3cNGP60hI9ATjSFgLZpbNJ7myAg6</td>\n",
       "      <td>-630YTQEuCI</td>\n",
       "    </tr>\n",
       "    <tr>\n",
       "      <th>2</th>\n",
       "      <td>8.ObjectOrientedProgramming--DP1i2ZU9gk.en.csv</td>\n",
       "      <td>The following content is\\nprovided under a Cre...</td>\n",
       "      <td>8. Object Oriented Programming</td>\n",
       "      <td>MIT 6.0001 Introduction to Computer Science an...</td>\n",
       "      <td>MIT OpenCourseWare</td>\n",
       "      <td>PLUl4u3cNGP63WbdFxL8giv4yhgdMGaZNA</td>\n",
       "      <td>-DP1i2ZU9gk</td>\n",
       "    </tr>\n",
       "    <tr>\n",
       "      <th>3</th>\n",
       "      <td>Recitation9b-DNASequenceMatching--DwGrJ8JxDc.e...</td>\n",
       "      <td>The following\\ncontent is provided under a Cre...</td>\n",
       "      <td>Recitation 9b: DNA Sequence Matching</td>\n",
       "      <td>MIT 6.006 Introduction to Algorithms, Fall 201...</td>\n",
       "      <td>MIT OpenCourseWare</td>\n",
       "      <td>PLUl4u3cNGP61Oq3tWYp6V_F-5jb5L2iHb</td>\n",
       "      <td>-DwGrJ8JxDc</td>\n",
       "    </tr>\n",
       "    <tr>\n",
       "      <th>4</th>\n",
       "      <td>R10.Quiz1Review--FElVPKykgw.en.csv</td>\n",
       "      <td>The following\\ncontent is provided under a Cre...</td>\n",
       "      <td>R10. Quiz 1 Review</td>\n",
       "      <td>MIT 6.006 Introduction to Algorithms, Fall 201...</td>\n",
       "      <td>MIT OpenCourseWare</td>\n",
       "      <td>PLUl4u3cNGP61Oq3tWYp6V_F-5jb5L2iHb</td>\n",
       "      <td>-FElVPKykgw</td>\n",
       "    </tr>\n",
       "  </tbody>\n",
       "</table>\n",
       "</div>"
      ],
      "text/plain": [
       "                                       lecture_title  \\\n",
       "0  Lec39_MIT18.01SingleVariableCalculus,Fall2007-...   \n",
       "1  S01.0MathematicalBackgroundOverview--630YTQEuC...   \n",
       "2     8.ObjectOrientedProgramming--DP1i2ZU9gk.en.csv   \n",
       "3  Recitation9b-DNASequenceMatching--DwGrJ8JxDc.e...   \n",
       "4                 R10.Quiz1Review--FElVPKykgw.en.csv   \n",
       "\n",
       "                                        lecture_text  \\\n",
       "0  The following content is\\nprovided under a Cre...   \n",
       "1  In this sequence of segments,\\nwe review some ...   \n",
       "2  The following content is\\nprovided under a Cre...   \n",
       "3  The following\\ncontent is provided under a Cre...   \n",
       "4  The following\\ncontent is provided under a Cre...   \n",
       "\n",
       "                                               title  \\\n",
       "0  Lec 39 | MIT 18.01 Single Variable Calculus, F...   \n",
       "1             S01.0 Mathematical Background Overview   \n",
       "2                     8. Object Oriented Programming   \n",
       "3               Recitation 9b: DNA Sequence Matching   \n",
       "4                                 R10. Quiz 1 Review   \n",
       "\n",
       "                                         description           channelid  \\\n",
       "0  Lecture 39: Final review\\nInstructor: David Je...  MIT OpenCourseWare   \n",
       "1  MIT RES.6-012 Introduction to Probability, Spr...  MIT OpenCourseWare   \n",
       "2  MIT 6.0001 Introduction to Computer Science an...  MIT OpenCourseWare   \n",
       "3  MIT 6.006 Introduction to Algorithms, Fall 201...  MIT OpenCourseWare   \n",
       "4  MIT 6.006 Introduction to Algorithms, Fall 201...  MIT OpenCourseWare   \n",
       "\n",
       "                          playlist_id        vidid  \n",
       "0                  PL590CCC2BC5AF3BC1  --lPz7VFnKI  \n",
       "1  PLUl4u3cNGP60hI9ATjSFgLZpbNJ7myAg6  -630YTQEuCI  \n",
       "2  PLUl4u3cNGP63WbdFxL8giv4yhgdMGaZNA  -DP1i2ZU9gk  \n",
       "3  PLUl4u3cNGP61Oq3tWYp6V_F-5jb5L2iHb  -DwGrJ8JxDc  \n",
       "4  PLUl4u3cNGP61Oq3tWYp6V_F-5jb5L2iHb  -FElVPKykgw  "
      ]
     },
     "execution_count": 346,
     "metadata": {},
     "output_type": "execute_result"
    }
   ],
   "source": [
    "base_df.head()"
   ]
  },
  {
   "cell_type": "code",
   "execution_count": 347,
   "metadata": {},
   "outputs": [],
   "source": [
    "#save the csv\n",
    "base_df.to_csv('math2019.csv', index=False)"
   ]
  },
  {
   "cell_type": "code",
   "execution_count": null,
   "metadata": {},
   "outputs": [],
   "source": []
  }
 ],
 "metadata": {
  "kernelspec": {
   "display_name": "Python 3",
   "language": "python",
   "name": "python3"
  },
  "language_info": {
   "codemirror_mode": {
    "name": "ipython",
    "version": 3
   },
   "file_extension": ".py",
   "mimetype": "text/x-python",
   "name": "python",
   "nbconvert_exporter": "python",
   "pygments_lexer": "ipython3",
   "version": "3.6.7"
  }
 },
 "nbformat": 4,
 "nbformat_minor": 2
}
