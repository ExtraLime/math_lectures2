{
 "cells": [
  {
   "cell_type": "code",
   "execution_count": 9,
   "metadata": {},
   "outputs": [],
   "source": [
    "import numpy as np\n",
    "import pandas as pd\n",
    "import warnings\n",
    "import time\n",
    "\n",
    "from sklearn.feature_extraction.text import TfidfVectorizer\n",
    "\n",
    "warnings.filterwarnings(\n",
    "    module='sklearn',\n",
    "    action='ignore',\n",
    "    message='Precision and')\n",
    "\n",
    "import nltk\n",
    "from nltk import word_tokenize, pos_tag"
   ]
  },
  {
   "cell_type": "code",
   "execution_count": 5,
   "metadata": {},
   "outputs": [],
   "source": [
    "lectures = pd.read_csv('all_lecture_text.csv')"
   ]
  },
  {
   "cell_type": "code",
   "execution_count": 18,
   "metadata": {},
   "outputs": [],
   "source": [
    "#Instantiate tf-idf vectorizer\n",
    "vectorizer = TfidfVectorizer(max_df=0.50, # drop words that occur in more 50% of the sentences\n",
    "                             min_df=20, # only use words that appear at least 25\n",
    "                             stop_words='english', #use english stopwords\n",
    "                             lowercase=True, #lowercase\n",
    "                             use_idf=True, #idf\n",
    "                             norm=u'l2',  #normalization\n",
    "                             smooth_idf=True)#add 1 to all words to prevent 0 division"
   ]
  },
  {
   "cell_type": "code",
   "execution_count": 19,
   "metadata": {},
   "outputs": [],
   "source": [
    "t1 = time.time()    \n",
    "lect_pos = [] #list of all POS\n",
    "all_pos = [] #list of sentences as POS"
   ]
  },
  {
   "cell_type": "code",
   "execution_count": 20,
   "metadata": {},
   "outputs": [],
   "source": [
    "t1 = time.time() \n",
    "for lecture in lectures.d2v_text:\n",
    "    pos_tags = nltk.pos_tag(word_tokenize(lecture))\n",
    "    pos_tags = [pos_tags[i][1] for i in range(len(pos_tags))]\n",
    "    all_pos += set(pos_tags)\n",
    "    lect_pos.append(pos_tags)\n",
    "print(\"time: {} minutes\".format((time.time()-t1)/60))"
   ]
  },
  {
   "cell_type": "code",
   "execution_count": 21,
   "metadata": {},
   "outputs": [],
   "source": [
    "#Set up up a DataFrame to count occurance of POS per lecture\n",
    "pos_df = pd.DataFrame(columns=set(all_pos))\n",
    "pos_df['pos_sent'] = lect_pos\n",
    "#initialize counts to 0\n",
    "pos_df.loc[:, all_pos] = 0"
   ]
  },
  {
   "cell_type": "code",
   "execution_count": 26,
   "metadata": {},
   "outputs": [],
   "source": [
    "for i, sentence in enumerate(pos_df['pos_sent']):\n",
    "        \n",
    "    # Convert the sentence words to POS\n",
    "    words = pos_df.pos_sent[i]\n",
    "\n",
    "    # Populate the row with word counts.\n",
    "    for word in words:\n",
    "        pos_df.loc[i, word] += 1\n",
    "\n",
    "# get total pos count in the lecture\n",
    "pos_df['length'] = pos_df.drop(['pos_sent'],1).sum(axis=1)"
   ]
  },
  {
   "cell_type": "code",
   "execution_count": 30,
   "metadata": {},
   "outputs": [],
   "source": [
    "non_norm_pos = pos_df\n"
   ]
  },
  {
   "cell_type": "code",
   "execution_count": 34,
   "metadata": {},
   "outputs": [],
   "source": [
    "norm_pos = pd.DataFrame()\n",
    "for col in pos_df.drop(['length'],1).columns:\n",
    "        norm_pos[col] = pos_df[col]/pos_df.length"
   ]
  },
  {
   "cell_type": "code",
   "execution_count": 37,
   "metadata": {},
   "outputs": [],
   "source": [
    "norm_pos.to_csv('norm_pos.csv',index=False)"
   ]
  },
  {
   "cell_type": "code",
   "execution_count": null,
   "metadata": {},
   "outputs": [],
   "source": [
    "norm_pos = pos_df.drop(['pos_sent'],1,inplace=True)"
   ]
  },
  {
   "cell_type": "code",
   "execution_count": null,
   "metadata": {},
   "outputs": [],
   "source": [
    "for lecture in doc_list:\n",
    "        pos_tags = nltk.pos_tag(word_tokenize(lecture))\n",
    "        pos_tags = [pos_tags[i][1] for i in range(len(pos_tags))]\n",
    "        for i in pos_tags:\n",
    "            all_pos.append(i)\n",
    "    lect_pos.append(pos_tags)"
   ]
  }
 ],
 "metadata": {
  "kernelspec": {
   "display_name": "Python 3",
   "language": "python",
   "name": "python3"
  },
  "language_info": {
   "codemirror_mode": {
    "name": "ipython",
    "version": 3
   },
   "file_extension": ".py",
   "mimetype": "text/x-python",
   "name": "python",
   "nbconvert_exporter": "python",
   "pygments_lexer": "ipython3",
   "version": "3.6.7"
  }
 },
 "nbformat": 4,
 "nbformat_minor": 2
}
