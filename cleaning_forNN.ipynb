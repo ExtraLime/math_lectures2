{
 "cells": [
  {
   "cell_type": "code",
   "execution_count": 2,
   "metadata": {},
   "outputs": [],
   "source": [
    "import numpy as np\n",
    "import pandas as pd\n"
   ]
  },
  {
   "cell_type": "code",
   "execution_count": 1,
   "metadata": {},
   "outputs": [
    {
     "ename": "NameError",
     "evalue": "name 'pd' is not defined",
     "output_type": "error",
     "traceback": [
      "\u001b[0;31m---------------------------------------------------------------------------\u001b[0m",
      "\u001b[0;31mNameError\u001b[0m                                 Traceback (most recent call last)",
      "\u001b[0;32m<ipython-input-1-d6edcb03c1db>\u001b[0m in \u001b[0;36m<module>\u001b[0;34m\u001b[0m\n\u001b[0;32m----> 1\u001b[0;31m \u001b[0mlectures\u001b[0m \u001b[0;34m=\u001b[0m \u001b[0mpd\u001b[0m\u001b[0;34m.\u001b[0m\u001b[0mread_csv\u001b[0m\u001b[0;34m(\u001b[0m\u001b[0;34m'raw_text.csv'\u001b[0m\u001b[0;34m)\u001b[0m\u001b[0;34m\u001b[0m\u001b[0;34m\u001b[0m\u001b[0m\n\u001b[0m",
      "\u001b[0;31mNameError\u001b[0m: name 'pd' is not defined"
     ]
    }
   ],
   "source": [
    "lectures = pd.read_csv('raw_text.csv')"
   ]
  },
  {
   "cell_type": "code",
   "execution_count": 86,
   "metadata": {
    "scrolled": true
   },
   "outputs": [
    {
     "data": {
      "text/html": [
       "<div>\n",
       "<style scoped>\n",
       "    .dataframe tbody tr th:only-of-type {\n",
       "        vertical-align: middle;\n",
       "    }\n",
       "\n",
       "    .dataframe tbody tr th {\n",
       "        vertical-align: top;\n",
       "    }\n",
       "\n",
       "    .dataframe thead th {\n",
       "        text-align: right;\n",
       "    }\n",
       "</style>\n",
       "<table border=\"1\" class=\"dataframe\">\n",
       "  <thead>\n",
       "    <tr style=\"text-align: right;\">\n",
       "      <th></th>\n",
       "      <th>text</th>\n",
       "      <th>label</th>\n",
       "    </tr>\n",
       "  </thead>\n",
       "  <tbody>\n",
       "    <tr>\n",
       "      <th>0</th>\n",
       "      <td>The following content is\\nprovided under a Cre...</td>\n",
       "      <td>Calculus</td>\n",
       "    </tr>\n",
       "    <tr>\n",
       "      <th>1</th>\n",
       "      <td>In this sequence of segments,\\nwe review some ...</td>\n",
       "      <td>Probability</td>\n",
       "    </tr>\n",
       "    <tr>\n",
       "      <th>2</th>\n",
       "      <td>The following content is\\nprovided under a Cre...</td>\n",
       "      <td>CS</td>\n",
       "    </tr>\n",
       "    <tr>\n",
       "      <th>3</th>\n",
       "      <td>The following\\ncontent is provided under a Cre...</td>\n",
       "      <td>Algorithms</td>\n",
       "    </tr>\n",
       "    <tr>\n",
       "      <th>4</th>\n",
       "      <td>The following\\ncontent is provided under a Cre...</td>\n",
       "      <td>Algorithms</td>\n",
       "    </tr>\n",
       "  </tbody>\n",
       "</table>\n",
       "</div>"
      ],
      "text/plain": [
       "                                                text        label\n",
       "0  The following content is\\nprovided under a Cre...     Calculus\n",
       "1  In this sequence of segments,\\nwe review some ...  Probability\n",
       "2  The following content is\\nprovided under a Cre...           CS\n",
       "3  The following\\ncontent is provided under a Cre...   Algorithms\n",
       "4  The following\\ncontent is provided under a Cre...   Algorithms"
      ]
     },
     "execution_count": 86,
     "metadata": {},
     "output_type": "execute_result"
    }
   ],
   "source": [
    "lectures.head()"
   ]
  },
  {
   "cell_type": "code",
   "execution_count": 87,
   "metadata": {},
   "outputs": [],
   "source": [
    "contract_dict = {\n",
    "  \"ain't\": \"am not\",\n",
    "  \"aren't\": \"are not\",\n",
    "  \"can't\": \"cannot\",\n",
    "  \"can't've\": \"cannot have\",\n",
    "  \"'cause\": \"because\",\n",
    "  \"could've\": \"could have\",\n",
    "  \"couldn't\": \"could not\",\n",
    "  \"couldn't've\": \"could not have\",\n",
    "  \"didn't\": \"did not\",\n",
    "  \"doesn't\": \"does not\",\n",
    "  \"does'nt\": \"does not\",\n",
    "  \"don't\": \"do not\",\n",
    "  \"hadn't\": \"had not\",\n",
    "  \"hadn't've\": \"had not have\",\n",
    "  \"hasn't\": \"has not\",\n",
    "  \"haven't\": \"have not\",\n",
    "  \"he'd\": \"he would\",\n",
    "  \"he'd've\": \"he would have\",\n",
    "  \"he'll\": \"he will\",\n",
    "  \"he'll've\": \"he will have\",\n",
    "  \"he's\": \"he has\",\n",
    "  \"how'd\": \"how did\",\n",
    "  \"how'd'y\": \"how do you\",\n",
    "  \"how'll\": \"how will\",\n",
    "  \"how's\": \"how is\",\n",
    "  \"I'd\": \"I would\",\n",
    "  \"I'd've\": \"I would have\",\n",
    "  \"I'll\": \"I will\",\n",
    "  \"I'll've\": \"I will have\",\n",
    "  \"I'm\": \"I am\",\n",
    "  \"I've\": \"I have\",\n",
    "  \"isn't\": \"is not\",\n",
    "  \"it'd\": \"it would\",\n",
    "  \"it'd've\": \"it would have\",\n",
    "  \"it'll\": \"it will\",\n",
    "  \"it'll've\": \"it will have\",\n",
    "  \"it's\": \"it is\",\n",
    "  \"let's\": \"let us\",\n",
    "  \"ma'am\": \"madam\",\n",
    "  \"mayn't\": \"may not\",\n",
    "  \"might've\": \"might have\",\n",
    "  \"mightn't\": \"might not\",\n",
    "  \"mightn't've\": \"might not have\",\n",
    "  \"must've\": \"must have\",\n",
    "  \"mustn't\": \"must not\",\n",
    "  \"mustn't've\": \"must not have\",\n",
    "  \"needn't\": \"need not\",\n",
    "  \"needn't've\": \"need not have\",\n",
    "  \"o'clock\": \"of the clock\",\n",
    "  \"oughtn't\": \"ought not\",\n",
    "  \"oughtn't've\": \"ought not have\",\n",
    "  \"shan't\": \"shall not\",\n",
    "  \"sha'n't\": \"shall not\",\n",
    "  \"shan't've\": \"shall not have\",\n",
    "  \"she'd\": \"she had / she would\",\n",
    "  \"she'd've\": \"she would have\",\n",
    "  \"she'll\": \"she will\",\n",
    "  \"she'll've\": \"she will have\",\n",
    "  \"she's\": \"she is\",\n",
    "  \"should've\": \"should have\",\n",
    "  \"shouldn't\": \"should not\",\n",
    "  \"shouldn't've\": \"should not have\",\n",
    "  \"so've\": \"so have\",\n",
    "  \"so's\": \"so is\",\n",
    "  \"tellin\": 'telling',\n",
    "  \"that'd\": \"that would\",\n",
    "  \"that'd've\": \"that would have\",\n",
    "  \"that's\": \"that is\",\n",
    "  \"thats\": \"that is\",\n",
    "  \"there'd\": \"there would\",\n",
    "  \"there'd've\": \"there would have\",\n",
    "  \"there's\": \"there is\",\n",
    "  \"they'd\": \"they would\",\n",
    "  \"they'd've\": \"they would have\",\n",
    "  \"they'll\": \"they will\",\n",
    "  \"they'll've\": \"they will have\",\n",
    "  \"they're\": \"they are\",\n",
    "  \"they've\": \"they have\",\n",
    "  \"to've\": \"to have\",\n",
    "  \"wasn't\": \"was not\",\n",
    "  \"we'd\": \"we would\",\n",
    "  \"we'd've\": \"we would have\",\n",
    "  \"we'll\": \"we will\",\n",
    "  \"we'll've\": \"we will have\",\n",
    "  \"we're\": \"we are\",\n",
    "  \"we've\": \"we have\",\n",
    "  \"weren't\": \"were not\",\n",
    "  \"what'll\": \"what will\",\n",
    "  \"what'll've\": \"what will have\",\n",
    "  \"what're\": \"what are\",\n",
    "  \"what's\": \"what is\",\n",
    "  \"what've\": \"what have\",\n",
    "  \"when's\": \"when is\",\n",
    "  \"when've\": \"when have\",\n",
    "  \"where'd\": \"where did\",\n",
    "  \"where's\": \"where is\",\n",
    "  \"where've\": \"where have\",\n",
    "  \"who'll\": \"who will\",\n",
    "  \"who'll've\": \"who will have\",\n",
    "  \"who's\": \"who is\",\n",
    "  \"who've\": \"who have\",\n",
    "  \"why's\": \"why is\",\n",
    "  \"why've\": \"why have\",\n",
    "  \"will've\": \"will have\",\n",
    "  \"won't\": \"will not\",\n",
    "  \"won't've\": \"will not have\",\n",
    "  \"would've\": \"would have\",\n",
    "  \"wouldn't\": \"would not\",\n",
    "  \"wouldn't've\": \"would not have\",\n",
    "  \"ya\": \"you\",\n",
    "  \"y'all\": \"you all\",\n",
    "  \"y'all'd\": \"you all would\",\n",
    "  \"y'all'd've\": \"you all would have\",\n",
    "  \"y'all're\": \"you all are\",\n",
    "  \"y'all've\": \"you all have\",\n",
    "  \"you'd\": \"you had / you would\",\n",
    "  \"you'd've\": \"you would have\",\n",
    "  \"you'll\": \"you shall / you will\",\n",
    "  \"you'll've\": \"you will have\",\n",
    "  \"you're\": \"you are\",\n",
    "  \"you've\": \"you have\"}"
   ]
  },
  {
   "cell_type": "code",
   "execution_count": 88,
   "metadata": {},
   "outputs": [],
   "source": [
    "import nltk\n",
    "from nltk.corpus import stopwords\n",
    "from nltk import word_tokenize\n",
    "\n",
    "from string import punctuation"
   ]
  },
  {
   "cell_type": "code",
   "execution_count": 108,
   "metadata": {},
   "outputs": [],
   "source": [
    "def tokenize(text):\n",
    "    \n",
    "    \n",
    "    #Clip the beginning\n",
    "    text = text.lower()\n",
    "    text = text[295:]\n",
    "    text = text.replace('\\n',' ')\n",
    "    rext = text.replace(' -- ', '')\n",
    "    #replace contractions\n",
    "    for key, expand in contract_dict.items():\n",
    "        text = text.replace(key, ' {} '.format(expand))\n",
    "    #remove stop words\n",
    "    \n",
    "    text = [w for w in word_tokenize(text) if not w in set(stopwords.words('english'))]\n",
    "#remove punctuation\n",
    "    text = [w for w in text if not w in set(punctuation)]\n",
    "    return text\n"
   ]
  },
  {
   "cell_type": "code",
   "execution_count": 94,
   "metadata": {},
   "outputs": [],
   "source": [
    "test = tokenize(lectures.text[0])"
   ]
  },
  {
   "cell_type": "code",
   "execution_count": 98,
   "metadata": {},
   "outputs": [
    {
     "data": {
      "text/plain": [
       "str"
      ]
     },
     "execution_count": 98,
     "metadata": {},
     "output_type": "execute_result"
    }
   ],
   "source": [
    "type(test)"
   ]
  },
  {
   "cell_type": "code",
   "execution_count": 109,
   "metadata": {},
   "outputs": [],
   "source": [
    "lectures['tokens'] = [tokenize(text) for text in lectures.text]"
   ]
  },
  {
   "cell_type": "code",
   "execution_count": 110,
   "metadata": {},
   "outputs": [
    {
     "data": {
      "text/html": [
       "<div>\n",
       "<style scoped>\n",
       "    .dataframe tbody tr th:only-of-type {\n",
       "        vertical-align: middle;\n",
       "    }\n",
       "\n",
       "    .dataframe tbody tr th {\n",
       "        vertical-align: top;\n",
       "    }\n",
       "\n",
       "    .dataframe thead th {\n",
       "        text-align: right;\n",
       "    }\n",
       "</style>\n",
       "<table border=\"1\" class=\"dataframe\">\n",
       "  <thead>\n",
       "    <tr style=\"text-align: right;\">\n",
       "      <th></th>\n",
       "      <th>text</th>\n",
       "      <th>label</th>\n",
       "      <th>tokens</th>\n",
       "      <th>sentence</th>\n",
       "      <th>sents</th>\n",
       "    </tr>\n",
       "  </thead>\n",
       "  <tbody>\n",
       "    <tr>\n",
       "      <th>0</th>\n",
       "      <td>The following content is\\nprovided under a Cre...</td>\n",
       "      <td>Calculus</td>\n",
       "      <td>[professor, professor, jerison, relaxing, sunn...</td>\n",
       "      <td>professor: so, professor jerison is relaxing ...</td>\n",
       "      <td>[  p r o f e s s o r :   s o ,   p r o f e s s...</td>\n",
       "    </tr>\n",
       "    <tr>\n",
       "      <th>1</th>\n",
       "      <td>In this sequence of segments,\\nwe review some ...</td>\n",
       "      <td>Probability</td>\n",
       "      <td>[concepts, say, intended, refresher, coverage,...</td>\n",
       "      <td>concepts. i should say that this is intended t...</td>\n",
       "      <td>[]</td>\n",
       "    </tr>\n",
       "    <tr>\n",
       "      <th>2</th>\n",
       "      <td>The following content is\\nprovided under a Cre...</td>\n",
       "      <td>CS</td>\n",
       "      <td>[fessor, right, everyone, let, us, get, starte...</td>\n",
       "      <td>fessor: all right everyone.  let us  get start...</td>\n",
       "      <td>[f e s s o r :   a l l   r i g h t   e v e r y...</td>\n",
       "    </tr>\n",
       "    <tr>\n",
       "      <th>3</th>\n",
       "      <td>The following\\ncontent is provided under a Cre...</td>\n",
       "      <td>Algorithms</td>\n",
       "      <td>[ofessor, things, talk, today, talk, code, tal...</td>\n",
       "      <td>ofessor: the things we can talk about today, w...</td>\n",
       "      <td>[o f e s s o r :   t h e   t h i n g s   w e  ...</td>\n",
       "    </tr>\n",
       "    <tr>\n",
       "      <th>4</th>\n",
       "      <td>The following\\ncontent is provided under a Cre...</td>\n",
       "      <td>Algorithms</td>\n",
       "      <td>[fessor, right, brought, problems, obviously, ...</td>\n",
       "      <td>fessor: all right. so i brought a few problems...</td>\n",
       "      <td>[f e s s o r :   a l l   r i g h t .   s o   i...</td>\n",
       "    </tr>\n",
       "  </tbody>\n",
       "</table>\n",
       "</div>"
      ],
      "text/plain": [
       "                                                text        label  \\\n",
       "0  The following content is\\nprovided under a Cre...     Calculus   \n",
       "1  In this sequence of segments,\\nwe review some ...  Probability   \n",
       "2  The following content is\\nprovided under a Cre...           CS   \n",
       "3  The following\\ncontent is provided under a Cre...   Algorithms   \n",
       "4  The following\\ncontent is provided under a Cre...   Algorithms   \n",
       "\n",
       "                                              tokens  \\\n",
       "0  [professor, professor, jerison, relaxing, sunn...   \n",
       "1  [concepts, say, intended, refresher, coverage,...   \n",
       "2  [fessor, right, everyone, let, us, get, starte...   \n",
       "3  [ofessor, things, talk, today, talk, code, tal...   \n",
       "4  [fessor, right, brought, problems, obviously, ...   \n",
       "\n",
       "                                            sentence  \\\n",
       "0   professor: so, professor jerison is relaxing ...   \n",
       "1  concepts. i should say that this is intended t...   \n",
       "2  fessor: all right everyone.  let us  get start...   \n",
       "3  ofessor: the things we can talk about today, w...   \n",
       "4  fessor: all right. so i brought a few problems...   \n",
       "\n",
       "                                               sents  \n",
       "0  [  p r o f e s s o r :   s o ,   p r o f e s s...  \n",
       "1                                                 []  \n",
       "2  [f e s s o r :   a l l   r i g h t   e v e r y...  \n",
       "3  [o f e s s o r :   t h e   t h i n g s   w e  ...  \n",
       "4  [f e s s o r :   a l l   r i g h t .   s o   i...  "
      ]
     },
     "execution_count": 110,
     "metadata": {},
     "output_type": "execute_result"
    }
   ],
   "source": [
    "lectures.head()"
   ]
  },
  {
   "cell_type": "code",
   "execution_count": 105,
   "metadata": {},
   "outputs": [],
   "source": [
    "lectures.to_csv('full_lects_str.csv',index=False)"
   ]
  },
  {
   "cell_type": "code",
   "execution_count": 143,
   "metadata": {},
   "outputs": [],
   "source": [
    "#divide lectures into sequences of 2500 characters\n",
    "#this will split up some words, however over all it should be fine\n",
    "seq_len = 400\n",
    "sents = []\n",
    "for lecture in lectures.tokens:\n",
    "    num_seq = len(lecture)//seq_len\n",
    "    lecture = lecture[:seq_len*num_seq]\n",
    "    seqs = [' '.join(lecture[i*seq_len:(i+1)*seq_len]) for i in range(num_seq)]\n",
    "    sents.append(seqs)"
   ]
  },
  {
   "cell_type": "code",
   "execution_count": 144,
   "metadata": {},
   "outputs": [
    {
     "data": {
      "text/html": [
       "<div>\n",
       "<style scoped>\n",
       "    .dataframe tbody tr th:only-of-type {\n",
       "        vertical-align: middle;\n",
       "    }\n",
       "\n",
       "    .dataframe tbody tr th {\n",
       "        vertical-align: top;\n",
       "    }\n",
       "\n",
       "    .dataframe thead th {\n",
       "        text-align: right;\n",
       "    }\n",
       "</style>\n",
       "<table border=\"1\" class=\"dataframe\">\n",
       "  <thead>\n",
       "    <tr style=\"text-align: right;\">\n",
       "      <th></th>\n",
       "      <th>text</th>\n",
       "      <th>label</th>\n",
       "      <th>tokens</th>\n",
       "      <th>sentence</th>\n",
       "      <th>sents</th>\n",
       "    </tr>\n",
       "  </thead>\n",
       "  <tbody>\n",
       "    <tr>\n",
       "      <th>0</th>\n",
       "      <td>The following content is\\nprovided under a Cre...</td>\n",
       "      <td>Calculus</td>\n",
       "      <td>[professor, professor, jerison, relaxing, sunn...</td>\n",
       "      <td>professor: so, professor jerison is relaxing ...</td>\n",
       "      <td>[professor professor jerison relaxing sunny lo...</td>\n",
       "    </tr>\n",
       "    <tr>\n",
       "      <th>1</th>\n",
       "      <td>In this sequence of segments,\\nwe review some ...</td>\n",
       "      <td>Probability</td>\n",
       "      <td>[concepts, say, intended, refresher, coverage,...</td>\n",
       "      <td>concepts. i should say that this is intended t...</td>\n",
       "      <td>[]</td>\n",
       "    </tr>\n",
       "    <tr>\n",
       "      <th>2</th>\n",
       "      <td>The following content is\\nprovided under a Cre...</td>\n",
       "      <td>CS</td>\n",
       "      <td>[fessor, right, everyone, let, us, get, starte...</td>\n",
       "      <td>fessor: all right everyone.  let us  get start...</td>\n",
       "      <td>[fessor right everyone let us get started toda...</td>\n",
       "    </tr>\n",
       "    <tr>\n",
       "      <th>3</th>\n",
       "      <td>The following\\ncontent is provided under a Cre...</td>\n",
       "      <td>Algorithms</td>\n",
       "      <td>[ofessor, things, talk, today, talk, code, tal...</td>\n",
       "      <td>ofessor: the things we can talk about today, w...</td>\n",
       "      <td>[ofessor things talk today talk code talk litt...</td>\n",
       "    </tr>\n",
       "    <tr>\n",
       "      <th>4</th>\n",
       "      <td>The following\\ncontent is provided under a Cre...</td>\n",
       "      <td>Algorithms</td>\n",
       "      <td>[fessor, right, brought, problems, obviously, ...</td>\n",
       "      <td>fessor: all right. so i brought a few problems...</td>\n",
       "      <td>[fessor right brought problems obviously quiz ...</td>\n",
       "    </tr>\n",
       "  </tbody>\n",
       "</table>\n",
       "</div>"
      ],
      "text/plain": [
       "                                                text        label  \\\n",
       "0  The following content is\\nprovided under a Cre...     Calculus   \n",
       "1  In this sequence of segments,\\nwe review some ...  Probability   \n",
       "2  The following content is\\nprovided under a Cre...           CS   \n",
       "3  The following\\ncontent is provided under a Cre...   Algorithms   \n",
       "4  The following\\ncontent is provided under a Cre...   Algorithms   \n",
       "\n",
       "                                              tokens  \\\n",
       "0  [professor, professor, jerison, relaxing, sunn...   \n",
       "1  [concepts, say, intended, refresher, coverage,...   \n",
       "2  [fessor, right, everyone, let, us, get, starte...   \n",
       "3  [ofessor, things, talk, today, talk, code, tal...   \n",
       "4  [fessor, right, brought, problems, obviously, ...   \n",
       "\n",
       "                                            sentence  \\\n",
       "0   professor: so, professor jerison is relaxing ...   \n",
       "1  concepts. i should say that this is intended t...   \n",
       "2  fessor: all right everyone.  let us  get start...   \n",
       "3  ofessor: the things we can talk about today, w...   \n",
       "4  fessor: all right. so i brought a few problems...   \n",
       "\n",
       "                                               sents  \n",
       "0  [professor professor jerison relaxing sunny lo...  \n",
       "1                                                 []  \n",
       "2  [fessor right everyone let us get started toda...  \n",
       "3  [ofessor things talk today talk code talk litt...  \n",
       "4  [fessor right brought problems obviously quiz ...  "
      ]
     },
     "execution_count": 144,
     "metadata": {},
     "output_type": "execute_result"
    }
   ],
   "source": [
    "lectures['sents'] = sents\n",
    "lectures.head() \n"
   ]
  },
  {
   "cell_type": "code",
   "execution_count": 145,
   "metadata": {
    "scrolled": true
   },
   "outputs": [
    {
     "data": {
      "text/plain": [
       "\"smaller smaller x gets bigger sign x inside radius convergence sign series converges value x. could x works convergence 0 fixed x. tells take -- radius convergence infinity formula fact property radius convergence talks r equal infinity condition x. every number less infinity absolute value convergence 0 general term works every x radius convergence infinity well kind fast think heard something earlier well anyway got sine function new function power series way computing sin x take enough terms shall get good evaluation sin x x. tells lot function sin x everything example formula hard see sine x periodic obvious somewhere hidden away expression number pi half period clear power series power series good things hide properties functions well want spend minutes telling g power series one get new power series new power series old also called operations power series things power series well one things multiply example want compute power series x sin x well power series sin x power series x actually function x simple polynomial polynomial 0 a_1 1 coefficients 0. x power series simple one sin x powers series want encourage treat power series like polynomials multiply together see operations compute power series x sin x take one multiply x. let us see right distributes x^2 minus x^4 3 plus x^6 5 radius convergence going smaller two radii convergence r equals infinity case ok multiply power series together pain power series long one x pretty simple ok one thing notice something way know even odd functions sine odd function x odd function product two odd functions even function reflected fact powers occur power series even odd function like sine powers occur odd powers x. always true ok multiply also differentiate let us case use process differentiation find power series cos x writing cos x derivative sine differentiating term term 'll take expression power series sine differentiate term term 'll get power series cosine let us see derivative x one derivative x^3 3x^2 3 denominator derivative x^5 5x^4 5 denominator cancellation happens 1 minus well 3 cancels last factor 3 factorial leaves 2 5 cancels last factor 5 factorial leaves 4 denominator go power series expansion cosine got even powers x. alternate factorials denominator course could derive expression using taylor 's formula kind calculation taking higher higher derivatives cosine get periodic pattern derivatives values derivatives x 0. 's cleaner way simpler way already knew derivative sine differentiate keep\""
      ]
     },
     "execution_count": 145,
     "metadata": {},
     "output_type": "execute_result"
    }
   ],
   "source": [
    "      lectures.sents[0][3]     "
   ]
  },
  {
   "cell_type": "code",
   "execution_count": null,
   "metadata": {},
   "outputs": [],
   "source": []
  },
  {
   "cell_type": "code",
   "execution_count": 146,
   "metadata": {},
   "outputs": [],
   "source": [
    "sentences3 = lectures[['label','sents']].copy()"
   ]
  },
  {
   "cell_type": "code",
   "execution_count": 147,
   "metadata": {},
   "outputs": [],
   "source": [
    "#explode the df to a new df with each sentence on one line\n",
    "sentences3 = pd.DataFrame({\n",
    "         col:np.repeat(sentences3[col].values, sentences3['sents'].str.len())\n",
    "         for col in sentences3.columns.difference(['sents'])\n",
    "         }).assign(**{'sents':np.concatenate(sentences3['sents'].values)})[sentences3.columns.tolist()]"
   ]
  },
  {
   "cell_type": "code",
   "execution_count": 148,
   "metadata": {},
   "outputs": [
    {
     "data": {
      "text/plain": [
       "(5127, 2)"
      ]
     },
     "execution_count": 148,
     "metadata": {},
     "output_type": "execute_result"
    }
   ],
   "source": [
    "sentences3.shape"
   ]
  },
  {
   "cell_type": "code",
   "execution_count": 149,
   "metadata": {},
   "outputs": [],
   "source": [
    "sentences3.to_csv('for_pt3.csv', index=False)"
   ]
  },
  {
   "cell_type": "code",
   "execution_count": 55,
   "metadata": {},
   "outputs": [],
   "source": [
    "sentences1.to_csv('math_sentences.csv')"
   ]
  },
  {
   "cell_type": "code",
   "execution_count": 56,
   "metadata": {},
   "outputs": [],
   "source": [
    "sentences1.to_csv('sentences.txt', header=None, index=None, sep=' ', mode='a')"
   ]
  },
  {
   "cell_type": "code",
   "execution_count": 73,
   "metadata": {},
   "outputs": [
    {
     "name": "stderr",
     "output_type": "stream",
     "text": [
      "/home/extralime/.local/lib/python3.6/site-packages/ipykernel_launcher.py:1: FutureWarning: The signature of `Series.to_csv` was aligned to that of `DataFrame.to_csv`, and argument 'header' will change its default value from False to True: please pass an explicit value to suppress this warning.\n",
      "  \"\"\"Entry point for launching an IPython kernel.\n"
     ]
    }
   ],
   "source": [
    "sentences1.sents.reset_index(drop=True).to_csv('sentences2.txt',header=None, sep='\\n',mode='a',index=False)"
   ]
  },
  {
   "cell_type": "code",
   "execution_count": 74,
   "metadata": {},
   "outputs": [
    {
     "name": "stderr",
     "output_type": "stream",
     "text": [
      "/home/extralime/.local/lib/python3.6/site-packages/ipykernel_launcher.py:1: FutureWarning: The signature of `Series.to_csv` was aligned to that of `DataFrame.to_csv`, and argument 'header' will change its default value from False to True: please pass an explicit value to suppress this warning.\n",
      "  \"\"\"Entry point for launching an IPython kernel.\n"
     ]
    }
   ],
   "source": [
    "sentences1.label.reset_index(drop=True).to_csv('labels.txt', header=None, sep='\\n',mode='a',index=False)"
   ]
  },
  {
   "cell_type": "code",
   "execution_count": 66,
   "metadata": {},
   "outputs": [
    {
     "data": {
      "text/plain": [
       "label    0\n",
       "sents    0\n",
       "dtype: int64"
      ]
     },
     "execution_count": 66,
     "metadata": {},
     "output_type": "execute_result"
    }
   ],
   "source": [
    "sentences1.isnull().sum()"
   ]
  },
  {
   "cell_type": "code",
   "execution_count": 68,
   "metadata": {},
   "outputs": [
    {
     "data": {
      "text/plain": [
       "Linear Algebra     5206\n",
       "Probability        4171\n",
       "CS                 3252\n",
       "Diff. Eq.          3135\n",
       "Algorithms         2920\n",
       "Statistics         2736\n",
       "Calculus           2315\n",
       "AI                 1922\n",
       "Data Structures    1723\n",
       "Math for Eng.      1107\n",
       "NLP                 713\n",
       "Name: label, dtype: int64"
      ]
     },
     "execution_count": 68,
     "metadata": {},
     "output_type": "execute_result"
    }
   ],
   "source": [
    "sentences1.label.value_counts()"
   ]
  },
  {
   "cell_type": "code",
   "execution_count": 79,
   "metadata": {},
   "outputs": [
    {
     "data": {
      "text/plain": [
       "29200"
      ]
     },
     "execution_count": 79,
     "metadata": {},
     "output_type": "execute_result"
    }
   ],
   "source": [
    "sentences1.label.value_counts().sum()"
   ]
  },
  {
   "cell_type": "code",
   "execution_count": 76,
   "metadata": {},
   "outputs": [],
   "source": [
    "lectures.to_csv('Rnndata.csv',index=False)"
   ]
  },
  {
   "cell_type": "code",
   "execution_count": 82,
   "metadata": {},
   "outputs": [
    {
     "data": {
      "text/html": [
       "<div>\n",
       "<style scoped>\n",
       "    .dataframe tbody tr th:only-of-type {\n",
       "        vertical-align: middle;\n",
       "    }\n",
       "\n",
       "    .dataframe tbody tr th {\n",
       "        vertical-align: top;\n",
       "    }\n",
       "\n",
       "    .dataframe thead th {\n",
       "        text-align: right;\n",
       "    }\n",
       "</style>\n",
       "<table border=\"1\" class=\"dataframe\">\n",
       "  <thead>\n",
       "    <tr style=\"text-align: right;\">\n",
       "      <th></th>\n",
       "      <th>text</th>\n",
       "      <th>label</th>\n",
       "      <th>tokens</th>\n",
       "      <th>sents</th>\n",
       "    </tr>\n",
       "  </thead>\n",
       "  <tbody>\n",
       "    <tr>\n",
       "      <th>0</th>\n",
       "      <td>The following content is\\nprovided under a Cre...</td>\n",
       "      <td>Calculus</td>\n",
       "      <td>[professor, professor, jerison, relaxing, sunn...</td>\n",
       "      <td>[professor professor jerison relaxing sunny lo...</td>\n",
       "    </tr>\n",
       "    <tr>\n",
       "      <th>1</th>\n",
       "      <td>In this sequence of segments,\\nwe review some ...</td>\n",
       "      <td>Probability</td>\n",
       "      <td>[concepts, say, intended, refresher, coverage,...</td>\n",
       "      <td>[concepts say intended refresher coverage goin...</td>\n",
       "    </tr>\n",
       "    <tr>\n",
       "      <th>2</th>\n",
       "      <td>The following content is\\nprovided under a Cre...</td>\n",
       "      <td>CS</td>\n",
       "      <td>[fessor, right, everyone, let, us, get, starte...</td>\n",
       "      <td>[fessor right everyone let us get started toda...</td>\n",
       "    </tr>\n",
       "    <tr>\n",
       "      <th>3</th>\n",
       "      <td>The following\\ncontent is provided under a Cre...</td>\n",
       "      <td>Algorithms</td>\n",
       "      <td>[ofessor, things, talk, today, talk, code, tal...</td>\n",
       "      <td>[ofessor things talk today talk code talk litt...</td>\n",
       "    </tr>\n",
       "    <tr>\n",
       "      <th>4</th>\n",
       "      <td>The following\\ncontent is provided under a Cre...</td>\n",
       "      <td>Algorithms</td>\n",
       "      <td>[fessor, right, brought, problems, obviously, ...</td>\n",
       "      <td>[fessor right brought problems obviously quiz ...</td>\n",
       "    </tr>\n",
       "  </tbody>\n",
       "</table>\n",
       "</div>"
      ],
      "text/plain": [
       "                                                text        label  \\\n",
       "0  The following content is\\nprovided under a Cre...     Calculus   \n",
       "1  In this sequence of segments,\\nwe review some ...  Probability   \n",
       "2  The following content is\\nprovided under a Cre...           CS   \n",
       "3  The following\\ncontent is provided under a Cre...   Algorithms   \n",
       "4  The following\\ncontent is provided under a Cre...   Algorithms   \n",
       "\n",
       "                                              tokens  \\\n",
       "0  [professor, professor, jerison, relaxing, sunn...   \n",
       "1  [concepts, say, intended, refresher, coverage,...   \n",
       "2  [fessor, right, everyone, let, us, get, starte...   \n",
       "3  [ofessor, things, talk, today, talk, code, tal...   \n",
       "4  [fessor, right, brought, problems, obviously, ...   \n",
       "\n",
       "                                               sents  \n",
       "0  [professor professor jerison relaxing sunny lo...  \n",
       "1  [concepts say intended refresher coverage goin...  \n",
       "2  [fessor right everyone let us get started toda...  \n",
       "3  [ofessor things talk today talk code talk litt...  \n",
       "4  [fessor right brought problems obviously quiz ...  "
      ]
     },
     "execution_count": 82,
     "metadata": {},
     "output_type": "execute_result"
    }
   ],
   "source": [
    "lectures.head()"
   ]
  },
  {
   "cell_type": "code",
   "execution_count": null,
   "metadata": {},
   "outputs": [],
   "source": [
    "full_lect_nn"
   ]
  }
 ],
 "metadata": {
  "kernelspec": {
   "display_name": "Python 3",
   "language": "python",
   "name": "python3"
  },
  "language_info": {
   "codemirror_mode": {
    "name": "ipython",
    "version": 3
   },
   "file_extension": ".py",
   "mimetype": "text/x-python",
   "name": "python",
   "nbconvert_exporter": "python",
   "pygments_lexer": "ipython3",
   "version": "3.6.7"
  }
 },
 "nbformat": 4,
 "nbformat_minor": 2
}
