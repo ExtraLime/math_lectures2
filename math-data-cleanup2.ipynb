{
 "cells": [
  {
   "cell_type": "code",
   "execution_count": 82,
   "metadata": {},
   "outputs": [],
   "source": [
    "import pandas as pd\n",
    "import numpy as np\n",
    "import re"
   ]
  },
  {
   "cell_type": "markdown",
   "metadata": {},
   "source": [
    "## Load in data saved from scraping notebook\n",
    "    - At this point we have a csv with the text and other various information from each video lecture.\n",
    "    - The data still isn't labeled"
   ]
  },
  {
   "cell_type": "code",
   "execution_count": 181,
   "metadata": {},
   "outputs": [],
   "source": [
    "lectures = pd.read_csv('all_lectures.csv')"
   ]
  },
  {
   "cell_type": "code",
   "execution_count": 182,
   "metadata": {},
   "outputs": [
    {
     "data": {
      "text/plain": [
       "(867, 7)"
      ]
     },
     "execution_count": 182,
     "metadata": {},
     "output_type": "execute_result"
    }
   ],
   "source": [
    "lectures.drop([26],axis=0, inplace=True)\n",
    "lectures.shape"
   ]
  },
  {
   "cell_type": "code",
   "execution_count": 183,
   "metadata": {},
   "outputs": [
    {
     "data": {
      "text/plain": [
       "lecture_title     0\n",
       "lecture_text      0\n",
       "title             7\n",
       "description      24\n",
       "channelid         7\n",
       "playlist_id       7\n",
       "vidid             0\n",
       "dtype: int64"
      ]
     },
     "execution_count": 183,
     "metadata": {},
     "output_type": "execute_result"
    }
   ],
   "source": [
    "lectures.isnull().sum()"
   ]
  },
  {
   "cell_type": "code",
   "execution_count": 184,
   "metadata": {},
   "outputs": [],
   "source": [
    "#correct description for harvard CS50 lectures\n",
    "lectures['description'] = np.where(pd.isnull(lectures.description) == True,'HAR_CS50',lectures.description)"
   ]
  },
  {
   "cell_type": "code",
   "execution_count": 185,
   "metadata": {},
   "outputs": [
    {
     "data": {
      "text/plain": [
       "lecture_title    0\n",
       "lecture_text     0\n",
       "title            7\n",
       "description      0\n",
       "channelid        7\n",
       "playlist_id      7\n",
       "vidid            0\n",
       "dtype: int64"
      ]
     },
     "execution_count": 185,
     "metadata": {},
     "output_type": "execute_result"
    }
   ],
   "source": [
    "lectures.isnull().sum()"
   ]
  },
  {
   "cell_type": "code",
   "execution_count": 186,
   "metadata": {},
   "outputs": [],
   "source": [
    "#These are the robotics lectures that i had to drop because there were only 7\n",
    "lectures = lectures.dropna()"
   ]
  },
  {
   "cell_type": "markdown",
   "metadata": {},
   "source": [
    "## add labels to data\n",
    "    - we are going to use our list of playlist Ids and match them with their subject, then create a new target column based of playlist id"
   ]
  },
  {
   "cell_type": "code",
   "execution_count": 190,
   "metadata": {},
   "outputs": [],
   "source": [
    "#load playlist csv\n",
    "playlist_ids = pd.read_csv('playlists_math.csv')\n",
    "playlist_ids.iloc[16].PlaylistID = 'PLUl4u3cNGP61hsJNdULdudlRL493b-XZf'"
   ]
  },
  {
   "cell_type": "code",
   "execution_count": 191,
   "metadata": {},
   "outputs": [],
   "source": [
    "#we need some consolidation in terms of target subjects \n",
    "#we will create a dictionary with the playlist as a key and the subject as the value\n",
    "subject_keys = playlist_ids.PlaylistID\n",
    "subject_values = ['Probability','Statistics','CS','Algorithms','AI','Calculus','Calculus','Linear Algebra','Diff. Eq.',\n",
    "                  'Linear Algebra','CS','Probability','CS','Algorithms','Math for Eng.','Statistics',\n",
    "                  'Data Structures','Probability','NLP','CS','Statistics','Algebraic Geometry','Calculus','Calculus',\n",
    "                  'Calculus','AI','Various','Calculus','Data Structures','Diff. Eq.','Math for Eng.','Linear Algebra',\n",
    "                  'Linear Algebra','Diff. Eq.','Diff. Eq.','Diff. Eq.','Statistics','Linear Algebra']\n",
    "subject_lookup = {i:j for i,j in zip(subject_keys,subject_values)}"
   ]
  },
  {
   "cell_type": "code",
   "execution_count": 192,
   "metadata": {},
   "outputs": [],
   "source": [
    "#function to label a subject for a given videos PL id\n",
    "subject_re = re.compile('(%s)' % '|'.join(subject_lookup.keys()))\n",
    "def label_subjects(s, subject_lookup=subject_lookup):\n",
    "    def replace(match):\n",
    "        return subject_lookup[match.group(0)]\n",
    "    return subject_re.sub(replace, s)"
   ]
  },
  {
   "cell_type": "code",
   "execution_count": 193,
   "metadata": {},
   "outputs": [],
   "source": [
    "lectures['Subject'] = [ label_subjects(str(i)) for i in lectures.playlist_id]"
   ]
  },
  {
   "cell_type": "code",
   "execution_count": 194,
   "metadata": {},
   "outputs": [],
   "source": [
    "import matplotlib.pyplot as plt\n",
    "import seaborn as sns"
   ]
  },
  {
   "cell_type": "code",
   "execution_count": 195,
   "metadata": {},
   "outputs": [],
   "source": [
    "subject_counts = lectures.Subject.value_counts().reset_index()"
   ]
  },
  {
   "cell_type": "code",
   "execution_count": 196,
   "metadata": {},
   "outputs": [
    {
     "data": {
      "text/plain": [
       "<matplotlib.axes._subplots.AxesSubplot at 0x7ff1523dc630>"
      ]
     },
     "execution_count": 196,
     "metadata": {},
     "output_type": "execute_result"
    },
    {
     "data": {
      "image/png": "[encoded data removed]",
      "text/plain": [
       "<Figure size 432x288 with 1 Axes>"
      ]
     },
     "metadata": {
      "needs_background": "light"
     },
     "output_type": "display_data"
    }
   ],
   "source": [
    "sns.barplot(x='Subject', y='index', data=subject_counts, palette='mako')"
   ]
  },
  {
   "cell_type": "code",
   "execution_count": 197,
   "metadata": {},
   "outputs": [
    {
     "data": {
      "text/plain": [
       "<matplotlib.axes._subplots.AxesSubplot at 0x7ff152715c88>"
      ]
     },
     "execution_count": 197,
     "metadata": {},
     "output_type": "execute_result"
    },
    {
     "data": {
      "image/png": "[encoded data removed]",
      "text/plain": [
       "<Figure size 432x288 with 1 Axes>"
      ]
     },
     "metadata": {
      "needs_background": "light"
     },
     "output_type": "display_data"
    }
   ],
   "source": [
    "chan_cnt = lectures.channelid.value_counts().reset_index()\n",
    "sns.barplot(x='channelid',y='index',data=chan_cnt, palette='mako')"
   ]
  },
  {
   "cell_type": "markdown",
   "metadata": {},
   "source": [
    "## Cleaning, tokenizing the text\n",
    "    - The text is pretty messy\n",
    "    - we need to clean it up a bit.\n",
    "    we do a clean up for the doc2vec model and another for the tfidf model"
   ]
  },
  {
   "cell_type": "code",
   "execution_count": 198,
   "metadata": {},
   "outputs": [
    {
     "data": {
      "text/plain": [
       "'The following content is\\nprovided under a Creative Commons license. Your support will help\\nMIT OpenCourseWare continue to offer high quality\\neducational resources for free. To make a donation, or to\\nview additional materials from hundreds of MIT courses,\\nvisit MIT OpenCourseWare at ocw.mit.edu.'"
      ]
     },
     "execution_count": 198,
     "metadata": {},
     "output_type": "execute_result"
    }
   ],
   "source": [
    "lectures.lecture_text[0][:295]"
   ]
  },
  {
   "cell_type": "markdown",
   "metadata": {},
   "source": [
    "This intro is tricky as the '\\n's are not always in the same spot, so we can't use regex. My preference is to remove the first 300 characters of each lecture. Not all of the lectures start with a long intro like the MIT lectures, however this approach should not affect the integry of any one lecture's content."
   ]
  },
  {
   "cell_type": "code",
   "execution_count": 199,
   "metadata": {},
   "outputs": [],
   "source": [
    "#dictionary to tokenize punctuation\n",
    "punt_dict = {'.':'||Period||',\n",
    "            ',':'||Comma||',\n",
    "            '\"': '||Quotation_Mark||',\n",
    "            ';':'||Semicolon||',\n",
    "            '!':'||Exclamation_Mark||',\n",
    "            '?':'||Question_Mark||',\n",
    "            '(':'||Left_Para||',\n",
    "            ')':'||Right_Para||',\n",
    "            '-':'||Dash||',\n",
    "            '\\n':'||Return||'}\n",
    "\n",
    "#dictionary of contractions\n",
    "-"
   ]
  },
  {
   "cell_type": "code",
   "execution_count": 200,
   "metadata": {},
   "outputs": [],
   "source": [
    "#for the doc2vec model, we wont remove the stop words\n",
    "\n",
    "def make_d2v_data(lectures):\n",
    "    clean_lectures = []\n",
    "    #iterate over the text by lecture\n",
    "    for lecture in lectures:\n",
    "        #skip intro\n",
    "        lecture = lecture[295:]\n",
    "        #tokenize punctuation\n",
    "        for key, token in punt_dict.items():\n",
    "            lecture = lecture.replace(key, ' {} '.format(token))\n",
    "        #expand contractions\n",
    "        for key, expan in contract_dict.items():\n",
    "            lecture = lecture.replace(key, ' {} '.format(expan))\n",
    "        #append clean lecture to list of lectures\n",
    "        clean_lectures.append(lecture)        \n",
    "    return clean_lectures\n",
    "        "
   ]
  },
  {
   "cell_type": "code",
   "execution_count": 201,
   "metadata": {},
   "outputs": [],
   "source": [
    "lectures['d2v_text'] = make_d2v_data(lectures.lecture_text)"
   ]
  },
  {
   "cell_type": "code",
   "execution_count": 180,
   "metadata": {},
   "outputs": [],
   "source": [
    "d2v_csv = lectures[['Subject','title','d2v_text']].copy()\n",
    "d2v_csv.to_csv('all_lecture_text.csv', index=False)"
   ]
  },
  {
   "cell_type": "code",
   "execution_count": 203,
   "metadata": {},
   "outputs": [
    {
     "data": {
      "text/html": [
       "<div>\n",
       "<style scoped>\n",
       "    .dataframe tbody tr th:only-of-type {\n",
       "        vertical-align: middle;\n",
       "    }\n",
       "\n",
       "    .dataframe tbody tr th {\n",
       "        vertical-align: top;\n",
       "    }\n",
       "\n",
       "    .dataframe thead th {\n",
       "        text-align: right;\n",
       "    }\n",
       "</style>\n",
       "<table border=\"1\" class=\"dataframe\">\n",
       "  <thead>\n",
       "    <tr style=\"text-align: right;\">\n",
       "      <th></th>\n",
       "      <th>Subject</th>\n",
       "      <th>title</th>\n",
       "      <th>d2v_text</th>\n",
       "    </tr>\n",
       "  </thead>\n",
       "  <tbody>\n",
       "    <tr>\n",
       "      <th>0</th>\n",
       "      <td>Calculus</td>\n",
       "      <td>Lec 39 | MIT 18.01 Single Variable Calculus, F...</td>\n",
       "      <td>PROFESSOR: So ||Comma||  ||Return|| Professor...</td>\n",
       "    </tr>\n",
       "    <tr>\n",
       "      <th>1</th>\n",
       "      <td>Probability</td>\n",
       "      <td>S01.0 Mathematical Background Overview</td>\n",
       "      <td>concepts ||Period||  I should say that ||Retur...</td>\n",
       "    </tr>\n",
       "    <tr>\n",
       "      <th>2</th>\n",
       "      <td>CS</td>\n",
       "      <td>8. Object Oriented Programming</td>\n",
       "      <td>FESSOR: All right everyone ||Period||  Let's g...</td>\n",
       "    </tr>\n",
       "    <tr>\n",
       "      <th>3</th>\n",
       "      <td>Algorithms</td>\n",
       "      <td>Recitation 9b: DNA Sequence Matching</td>\n",
       "      <td>OFESSOR: The things we ||Return|| can talk abo...</td>\n",
       "    </tr>\n",
       "    <tr>\n",
       "      <th>4</th>\n",
       "      <td>Algorithms</td>\n",
       "      <td>R10. Quiz 1 Review</td>\n",
       "      <td>FESSOR: All right ||Period||  So I brought a f...</td>\n",
       "    </tr>\n",
       "  </tbody>\n",
       "</table>\n",
       "</div>"
      ],
      "text/plain": [
       "       Subject                                              title  \\\n",
       "0     Calculus  Lec 39 | MIT 18.01 Single Variable Calculus, F...   \n",
       "1  Probability             S01.0 Mathematical Background Overview   \n",
       "2           CS                     8. Object Oriented Programming   \n",
       "3   Algorithms               Recitation 9b: DNA Sequence Matching   \n",
       "4   Algorithms                                 R10. Quiz 1 Review   \n",
       "\n",
       "                                            d2v_text  \n",
       "0   PROFESSOR: So ||Comma||  ||Return|| Professor...  \n",
       "1  concepts ||Period||  I should say that ||Retur...  \n",
       "2  FESSOR: All right everyone ||Period||  Let's g...  \n",
       "3  OFESSOR: The things we ||Return|| can talk abo...  \n",
       "4  FESSOR: All right ||Period||  So I brought a f...  "
      ]
     },
     "execution_count": 203,
     "metadata": {},
     "output_type": "execute_result"
    }
   ],
   "source": [
    "d2v_csv.head()"
   ]
  },
  {
   "cell_type": "code",
   "execution_count": null,
   "metadata": {},
   "outputs": [],
   "source": []
  }
 ],
 "metadata": {
  "kernelspec": {
   "display_name": "Python 3",
   "language": "python",
   "name": "python3"
  },
  "language_info": {
   "codemirror_mode": {
    "name": "ipython",
    "version": 3
   },
   "file_extension": ".py",
   "mimetype": "text/x-python",
   "name": "python",
   "nbconvert_exporter": "python",
   "pygments_lexer": "ipython3",
   "version": "3.6.7"
  }
 },
 "nbformat": 4,
 "nbformat_minor": 2
}
